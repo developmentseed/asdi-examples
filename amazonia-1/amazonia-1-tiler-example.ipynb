{
 "cells": [
  {
   "cell_type": "markdown",
   "id": "e7a93771-2846-485a-9bb3-f70fce48cc48",
   "metadata": {},
   "source": [
    "# Amazonia-1 on AWS Open Data\n",
    "\n",
    "## Accessing Cloud Optimized Multi-Band Raster Data\n",
    "\n",
    "\n",
    "With the AWS ASDI STAC API, we can search and load various geospatial datasets. Below we'll work with the Amazonia-1 Satelite WFI Camera, Level-4 Orthorectified data sourced from Cloud Optimized GeoTIFFs (COGs) [hosted on AWS](https://registry.opendata.aws/amazonia/). In this example, we'll read in 4 band imagery within a bounding box.\n",
    "\n",
    "### Dependencies\n",
    "\n",
    "First we install any necessary packages. Please note that the following block of code only needs to be run if needed within a new workspace and that you may need to restart the kernel to use updated packages. The code block only needs to be run once for each AWS Sagemaker Studio profile."
   ]
  },
  {
   "cell_type": "code",
   "execution_count": 2,
   "id": "9fa29949-bf8a-4b10-82bc-26db6784ace1",
   "metadata": {
    "tags": []
   },
   "outputs": [
    {
     "name": "stdout",
     "output_type": "stream",
     "text": [
      "Note: you may need to restart the kernel to use updated packages.\n",
      "\u001b[33mWARNING: There was an error checking the latest version of pip.\u001b[0m\u001b[33m\n",
      "\u001b[0mNote: you may need to restart the kernel to use updated packages.\n"
     ]
    }
   ],
   "source": [
    "%pip install --upgrade pip -q\n",
    "%pip install matplotlib 'pystac_client>=0.5.0' stackstac rasterio folium httpx shapely -q"
   ]
  },
  {
   "cell_type": "code",
   "execution_count": 3,
   "id": "830a9b92-43d3-46eb-b1b9-b70bb7965ead",
   "metadata": {
    "tags": []
   },
   "outputs": [],
   "source": [
    "# All imports in the order they are used in the code\n",
    "from pystac_client import Client\n",
    "import shapely as shp\n",
    "import folium\n",
    "import httpx\n",
    "from IPython.display import JSON"
   ]
  },
  {
   "cell_type": "markdown",
   "id": "68dca23e-00eb-4f02-8f8d-16bed0c142da",
   "metadata": {},
   "source": [
    "We'll use `pystac_client` to submit our search query, stackstac to load and composite our rasters as an Xarray DataArray, and rio-tiler to performantally load individual COGs."
   ]
  },
  {
   "cell_type": "markdown",
   "id": "555e8b89-08eb-4876-a91b-685507bd5952",
   "metadata": {},
   "source": [
    "### Querying the AWS STAC API with Pystac Client\n",
    "\n",
    "First, we define the URL to our STAC API, a service that allows us to submit search queries for spatio-temporal assets (like elevation raster tiles).\n",
    "\n",
    "Next, we open this URL with `pystac_client`, which allows us to use the client's search method. `client.search` accepts many different arguments to specify the search query. Common query parameters are `time_range` and `bbox` (the spatial bounding box). Since the DEM was collected at one point in time, we will only specify the \"where\" with a `bbox` describing the minx, miny, maxx, maxy coordinates in lat/lon degrees."
   ]
  },
  {
   "cell_type": "code",
   "execution_count": 4,
   "id": "2069753b-85f5-4a15-98a5-a222e6bcae1c",
   "metadata": {
    "tags": []
   },
   "outputs": [
    {
     "name": "stdout",
     "output_type": "stream",
     "text": [
      "Number of WFI tiles:  2\n"
     ]
    }
   ],
   "source": [
    "# making a connection to AWS STAC API\n",
    "API_ROOT_URL = \"https://dev.asdi-catalog.org\"\n",
    "client = Client.open(API_ROOT_URL)\n",
    "\n",
    "# Search near Curitiba Brazil\n",
    "bbox = [-49.320232, -25.626009, -48.927635, -25.323504]\n",
    "source_search = client.search(\n",
    "    collections=[\"AMAZONIA1-WFI\"], \n",
    "    bbox=bbox,\n",
    "    datetime=['2023-06-25T00:00:00Z', '2023-06-29T00:00:00Z'],\n",
    "    max_items=100\n",
    ")\n",
    "# Getting the metadata and links to data assets in STAC format\n",
    "source_items = source_search.item_collection()\n",
    "print(\"Number of WFI tiles: \", len(source_items))"
   ]
  },
  {
   "cell_type": "markdown",
   "id": "c910d0e7-ad63-4085-9f30-13525c4de52b",
   "metadata": {},
   "source": [
    "### Overview Map for Context\n",
    "\n",
    "To better understand our area of interest, we can create a descriptive map with our bounding box. We'll load an OpenStreetMap basemap that includes place names, annotations for water and forested areas, and roads. We'll use `folium` to access and plot this map. To learn more about `folium`, check out the [documentation](https://python-visualization.github.io/folium/). We'll use our bounding box to specify where we want to center our map and pick a zoom level that shows us detail around San Ignacio."
   ]
  },
  {
   "cell_type": "code",
   "execution_count": 5,
   "id": "234cb89c-11f8-48ff-a119-37dfd5781b4d",
   "metadata": {
    "tags": []
   },
   "outputs": [],
   "source": [
    "# Use shapely for manipulation and analysis of geometric objects\n",
    "# in this case to find the center of the bounding box bbox\n",
    "bbox_poly = shp.geometry.box(*bbox)\n",
    "center_point = (bbox_poly.centroid)"
   ]
  },
  {
   "cell_type": "code",
   "execution_count": 6,
   "id": "b78d9547-a99d-46db-b9a7-dd08f1b7009e",
   "metadata": {
    "tags": []
   },
   "outputs": [
    {
     "data": {
      "text/html": [
       "<div style=\"width:100%;\"><div style=\"position:relative;width:100%;height:0;padding-bottom:60%;\"><span style=\"color:#565656\">Make this Notebook Trusted to load map: File -> Trust Notebook</span><iframe srcdoc=\"&lt;!DOCTYPE html&gt;\n",
       "&lt;html&gt;\n",
       "&lt;head&gt;\n",
       "    \n",
       "    &lt;meta http-equiv=&quot;content-type&quot; content=&quot;text/html; charset=UTF-8&quot; /&gt;\n",
       "    \n",
       "        &lt;script&gt;\n",
       "            L_NO_TOUCH = false;\n",
       "            L_DISABLE_3D = false;\n",
       "        &lt;/script&gt;\n",
       "    \n",
       "    &lt;style&gt;html, body {width: 100%;height: 100%;margin: 0;padding: 0;}&lt;/style&gt;\n",
       "    &lt;style&gt;#map {position:absolute;top:0;bottom:0;right:0;left:0;}&lt;/style&gt;\n",
       "    &lt;script src=&quot;https://cdn.jsdelivr.net/npm/leaflet@1.9.3/dist/leaflet.js&quot;&gt;&lt;/script&gt;\n",
       "    &lt;script src=&quot;https://code.jquery.com/jquery-1.12.4.min.js&quot;&gt;&lt;/script&gt;\n",
       "    &lt;script src=&quot;https://cdn.jsdelivr.net/npm/bootstrap@5.2.2/dist/js/bootstrap.bundle.min.js&quot;&gt;&lt;/script&gt;\n",
       "    &lt;script src=&quot;https://cdnjs.cloudflare.com/ajax/libs/Leaflet.awesome-markers/2.0.2/leaflet.awesome-markers.js&quot;&gt;&lt;/script&gt;\n",
       "    &lt;link rel=&quot;stylesheet&quot; href=&quot;https://cdn.jsdelivr.net/npm/leaflet@1.9.3/dist/leaflet.css&quot;/&gt;\n",
       "    &lt;link rel=&quot;stylesheet&quot; href=&quot;https://cdn.jsdelivr.net/npm/bootstrap@5.2.2/dist/css/bootstrap.min.css&quot;/&gt;\n",
       "    &lt;link rel=&quot;stylesheet&quot; href=&quot;https://netdna.bootstrapcdn.com/bootstrap/3.0.0/css/bootstrap.min.css&quot;/&gt;\n",
       "    &lt;link rel=&quot;stylesheet&quot; href=&quot;https://cdn.jsdelivr.net/npm/@fortawesome/fontawesome-free@6.2.0/css/all.min.css&quot;/&gt;\n",
       "    &lt;link rel=&quot;stylesheet&quot; href=&quot;https://cdnjs.cloudflare.com/ajax/libs/Leaflet.awesome-markers/2.0.2/leaflet.awesome-markers.css&quot;/&gt;\n",
       "    &lt;link rel=&quot;stylesheet&quot; href=&quot;https://cdn.jsdelivr.net/gh/python-visualization/folium/folium/templates/leaflet.awesome.rotate.min.css&quot;/&gt;\n",
       "    \n",
       "            &lt;meta name=&quot;viewport&quot; content=&quot;width=device-width,\n",
       "                initial-scale=1.0, maximum-scale=1.0, user-scalable=no&quot; /&gt;\n",
       "            &lt;style&gt;\n",
       "                #map_155d63a5caf7ca7bcf53493e93c502ef {\n",
       "                    position: relative;\n",
       "                    width: 100.0%;\n",
       "                    height: 100.0%;\n",
       "                    left: 0.0%;\n",
       "                    top: 0.0%;\n",
       "                }\n",
       "                .leaflet-container { font-size: 1rem; }\n",
       "            &lt;/style&gt;\n",
       "        \n",
       "&lt;/head&gt;\n",
       "&lt;body&gt;\n",
       "    \n",
       "    \n",
       "            &lt;div class=&quot;folium-map&quot; id=&quot;map_155d63a5caf7ca7bcf53493e93c502ef&quot; &gt;&lt;/div&gt;\n",
       "        \n",
       "&lt;/body&gt;\n",
       "&lt;script&gt;\n",
       "    \n",
       "    \n",
       "            var map_155d63a5caf7ca7bcf53493e93c502ef = L.map(\n",
       "                &quot;map_155d63a5caf7ca7bcf53493e93c502ef&quot;,\n",
       "                {\n",
       "                    center: [-25.474756499999994, -49.1239335],\n",
       "                    crs: L.CRS.EPSG3857,\n",
       "                    zoom: 6,\n",
       "                    zoomControl: true,\n",
       "                    preferCanvas: false,\n",
       "                }\n",
       "            );\n",
       "\n",
       "            \n",
       "\n",
       "        \n",
       "    \n",
       "            var tile_layer_fb056790bc9f15d5d6e3a52969300b10 = L.tileLayer(\n",
       "                &quot;https://{s}.tile.openstreetmap.org/{z}/{x}/{y}.png&quot;,\n",
       "                {&quot;attribution&quot;: &quot;Data by \\u0026copy; \\u003ca target=\\&quot;_blank\\&quot; href=\\&quot;http://openstreetmap.org\\&quot;\\u003eOpenStreetMap\\u003c/a\\u003e, under \\u003ca target=\\&quot;_blank\\&quot; href=\\&quot;http://www.openstreetmap.org/copyright\\&quot;\\u003eODbL\\u003c/a\\u003e.&quot;, &quot;detectRetina&quot;: false, &quot;maxNativeZoom&quot;: 18, &quot;maxZoom&quot;: 18, &quot;minZoom&quot;: 0, &quot;noWrap&quot;: false, &quot;opacity&quot;: 1, &quot;subdomains&quot;: &quot;abc&quot;, &quot;tms&quot;: false}\n",
       "            ).addTo(map_155d63a5caf7ca7bcf53493e93c502ef);\n",
       "        \n",
       "    \n",
       "        function geo_json_e0cb4d26ffa03d801517a0d9463cd215_styler(feature) {\n",
       "            switch(feature.id) {\n",
       "                default:\n",
       "                    return {&quot;color&quot;: &quot;#3388ff&quot;, &quot;fillColor&quot;: &quot;#3388ff&quot;, &quot;fillOpacity&quot;: &quot;0.05&quot;};\n",
       "            }\n",
       "        }\n",
       "\n",
       "        function geo_json_e0cb4d26ffa03d801517a0d9463cd215_onEachFeature(feature, layer) {\n",
       "            layer.on({\n",
       "            });\n",
       "        };\n",
       "        var geo_json_e0cb4d26ffa03d801517a0d9463cd215 = L.geoJson(null, {\n",
       "                onEachFeature: geo_json_e0cb4d26ffa03d801517a0d9463cd215_onEachFeature,\n",
       "            \n",
       "                style: geo_json_e0cb4d26ffa03d801517a0d9463cd215_styler,\n",
       "        });\n",
       "\n",
       "        function geo_json_e0cb4d26ffa03d801517a0d9463cd215_add (data) {\n",
       "            geo_json_e0cb4d26ffa03d801517a0d9463cd215\n",
       "                .addData(data)\n",
       "                .addTo(map_155d63a5caf7ca7bcf53493e93c502ef);\n",
       "        }\n",
       "            geo_json_e0cb4d26ffa03d801517a0d9463cd215_add({&quot;features&quot;: [{&quot;assets&quot;: {&quot;B1&quot;: {&quot;eo:bands&quot;: [{&quot;common_name&quot;: &quot;blue&quot;, &quot;name&quot;: &quot;B1&quot;}], &quot;href&quot;: &quot;s3://amazonia-pds/AMAZONIA1/WFI/034/019/AMAZONIA_1_WFI_20230628_034_019_L4/AMAZONIA_1_WFI_20230628_034_019_L4_BAND1.tif&quot;, &quot;type&quot;: &quot;image/tiff; application=geotiff; profile=cloud-optimized&quot;}, &quot;B2&quot;: {&quot;eo:bands&quot;: [{&quot;common_name&quot;: &quot;green&quot;, &quot;name&quot;: &quot;B2&quot;}], &quot;href&quot;: &quot;s3://amazonia-pds/AMAZONIA1/WFI/034/019/AMAZONIA_1_WFI_20230628_034_019_L4/AMAZONIA_1_WFI_20230628_034_019_L4_BAND2.tif&quot;, &quot;type&quot;: &quot;image/tiff; application=geotiff; profile=cloud-optimized&quot;}, &quot;B3&quot;: {&quot;eo:bands&quot;: [{&quot;common_name&quot;: &quot;red&quot;, &quot;name&quot;: &quot;B3&quot;}], &quot;href&quot;: &quot;s3://amazonia-pds/AMAZONIA1/WFI/034/019/AMAZONIA_1_WFI_20230628_034_019_L4/AMAZONIA_1_WFI_20230628_034_019_L4_BAND3.tif&quot;, &quot;type&quot;: &quot;image/tiff; application=geotiff; profile=cloud-optimized&quot;}, &quot;B4&quot;: {&quot;eo:bands&quot;: [{&quot;common_name&quot;: &quot;nir&quot;, &quot;name&quot;: &quot;B4&quot;}], &quot;href&quot;: &quot;s3://amazonia-pds/AMAZONIA1/WFI/034/019/AMAZONIA_1_WFI_20230628_034_019_L4/AMAZONIA_1_WFI_20230628_034_019_L4_BAND4.tif&quot;, &quot;type&quot;: &quot;image/tiff; application=geotiff; profile=cloud-optimized&quot;}, &quot;metadata&quot;: {&quot;href&quot;: &quot;s3://amazonia-pds/AMAZONIA1/WFI/034/019/AMAZONIA_1_WFI_20230628_034_019_L4/AMAZONIA_1_WFI_20230628_034_019_L4_BAND2.xml&quot;, &quot;title&quot;: &quot;INPE original metadata&quot;, &quot;type&quot;: &quot;application/xml&quot;}, &quot;thumbnail&quot;: {&quot;href&quot;: &quot;https://s3.amazonaws.com/amazonia-meta-pds/AMAZONIA1/WFI/034/019/AMAZONIA_1_WFI_20230628_034_019_L4/AMAZONIA_1_WFI_20230628_034_019.png&quot;, &quot;title&quot;: &quot;Thumbnail&quot;, &quot;type&quot;: &quot;image/png&quot;}}, &quot;bbox&quot;: [-50.388467, -27.886847, -40.223131, -19.674204], &quot;collection&quot;: &quot;AMAZONIA1-WFI&quot;, &quot;geometry&quot;: {&quot;coordinates&quot;: [[[[-50.348652, -26.458206], [-41.657193, -27.81281], [-40.214909, -21.005348], [-48.451722, -19.719899], [-50.348652, -26.458206]]]], &quot;type&quot;: &quot;MultiPolygon&quot;}, &quot;id&quot;: &quot;AMAZONIA_1_WFI_20230628_034_019_L4&quot;, &quot;links&quot;: [{&quot;href&quot;: &quot;https://dev.asdi-catalog.org/collections/AMAZONIA1-WFI&quot;, &quot;rel&quot;: &quot;collection&quot;, &quot;type&quot;: &quot;application/json&quot;}, {&quot;href&quot;: &quot;https://dev.asdi-catalog.org/collections/AMAZONIA1-WFI&quot;, &quot;rel&quot;: &quot;parent&quot;, &quot;type&quot;: &quot;application/json&quot;}, {&quot;href&quot;: &quot;https://dev.asdi-catalog.org&quot;, &quot;rel&quot;: &quot;root&quot;, &quot;title&quot;: &quot;ASDI STAC API (dev)&quot;, &quot;type&quot;: &quot;application/json&quot;}, {&quot;href&quot;: &quot;https://dev.asdi-catalog.org/collections/AMAZONIA1-WFI/items/AMAZONIA_1_WFI_20230628_034_019_L4&quot;, &quot;rel&quot;: &quot;self&quot;, &quot;type&quot;: &quot;application/geo+json&quot;}], &quot;properties&quot;: {&quot;amazonia:data_type&quot;: &quot;L4&quot;, &quot;amazonia:path&quot;: 34, &quot;amazonia:row&quot;: 19, &quot;datetime&quot;: &quot;2023-06-28T13:26:29Z&quot;, &quot;gsd&quot;: 64.0, &quot;instruments&quot;: [&quot;WFI&quot;], &quot;platform&quot;: &quot;amazonia-1&quot;, &quot;proj:epsg&quot;: 32723, &quot;sat:orbit_state&quot;: &quot;descending&quot;, &quot;sat:platform_international_designator&quot;: &quot;2021-015A&quot;, &quot;view:off_nadir&quot;: 0.000224307, &quot;view:sun_azimuth&quot;: 27.07885, &quot;view:sun_elevation&quot;: 38.1819}, &quot;stac_extensions&quot;: [&quot;https://stac-extensions.github.io/view/v1.0.0/schema.json&quot;, &quot;https://stac-extensions.github.io/sat/v1.0.0/schema.json&quot;, &quot;https://stac-extensions.github.io/projection/v1.1.0/schema.json&quot;, &quot;https://stac-extensions.github.io/eo/v1.0.0/schema.json&quot;], &quot;stac_version&quot;: &quot;1.0.0&quot;, &quot;type&quot;: &quot;Feature&quot;}, {&quot;assets&quot;: {&quot;B1&quot;: {&quot;eo:bands&quot;: [{&quot;common_name&quot;: &quot;blue&quot;, &quot;name&quot;: &quot;B1&quot;}], &quot;href&quot;: &quot;s3://amazonia-pds/AMAZONIA1/WFI/035/019/AMAZONIA_1_WFI_20230625_035_019_L4/AMAZONIA_1_WFI_20230625_035_019_L4_BAND1.tif&quot;, &quot;type&quot;: &quot;image/tiff; application=geotiff; profile=cloud-optimized&quot;}, &quot;B2&quot;: {&quot;eo:bands&quot;: [{&quot;common_name&quot;: &quot;green&quot;, &quot;name&quot;: &quot;B2&quot;}], &quot;href&quot;: &quot;s3://amazonia-pds/AMAZONIA1/WFI/035/019/AMAZONIA_1_WFI_20230625_035_019_L4/AMAZONIA_1_WFI_20230625_035_019_L4_BAND2.tif&quot;, &quot;type&quot;: &quot;image/tiff; application=geotiff; profile=cloud-optimized&quot;}, &quot;B3&quot;: {&quot;eo:bands&quot;: [{&quot;common_name&quot;: &quot;red&quot;, &quot;name&quot;: &quot;B3&quot;}], &quot;href&quot;: &quot;s3://amazonia-pds/AMAZONIA1/WFI/035/019/AMAZONIA_1_WFI_20230625_035_019_L4/AMAZONIA_1_WFI_20230625_035_019_L4_BAND3.tif&quot;, &quot;type&quot;: &quot;image/tiff; application=geotiff; profile=cloud-optimized&quot;}, &quot;B4&quot;: {&quot;eo:bands&quot;: [{&quot;common_name&quot;: &quot;nir&quot;, &quot;name&quot;: &quot;B4&quot;}], &quot;href&quot;: &quot;s3://amazonia-pds/AMAZONIA1/WFI/035/019/AMAZONIA_1_WFI_20230625_035_019_L4/AMAZONIA_1_WFI_20230625_035_019_L4_BAND4.tif&quot;, &quot;type&quot;: &quot;image/tiff; application=geotiff; profile=cloud-optimized&quot;}, &quot;metadata&quot;: {&quot;href&quot;: &quot;s3://amazonia-pds/AMAZONIA1/WFI/035/019/AMAZONIA_1_WFI_20230625_035_019_L4/AMAZONIA_1_WFI_20230625_035_019_L4_BAND2.xml&quot;, &quot;title&quot;: &quot;INPE original metadata&quot;, &quot;type&quot;: &quot;application/xml&quot;}, &quot;thumbnail&quot;: {&quot;href&quot;: &quot;https://s3.amazonaws.com/amazonia-meta-pds/AMAZONIA1/WFI/035/019/AMAZONIA_1_WFI_20230625_035_019_L4/AMAZONIA_1_WFI_20230625_035_019.png&quot;, &quot;title&quot;: &quot;Thumbnail&quot;, &quot;type&quot;: &quot;image/png&quot;}}, &quot;bbox&quot;: [-55.371932, -27.919768, -45.215433, -19.650824], &quot;collection&quot;: &quot;AMAZONIA1-WFI&quot;, &quot;geometry&quot;: {&quot;coordinates&quot;: [[[[-55.336643, -26.458031], [-46.644224, -27.812824], [-45.202135, -21.005465], [-53.43983, -19.719834], [-55.336643, -26.458031]]]], &quot;type&quot;: &quot;MultiPolygon&quot;}, &quot;id&quot;: &quot;AMAZONIA_1_WFI_20230625_035_019_L4&quot;, &quot;links&quot;: [{&quot;href&quot;: &quot;https://dev.asdi-catalog.org/collections/AMAZONIA1-WFI&quot;, &quot;rel&quot;: &quot;collection&quot;, &quot;type&quot;: &quot;application/json&quot;}, {&quot;href&quot;: &quot;https://dev.asdi-catalog.org/collections/AMAZONIA1-WFI&quot;, &quot;rel&quot;: &quot;parent&quot;, &quot;type&quot;: &quot;application/json&quot;}, {&quot;href&quot;: &quot;https://dev.asdi-catalog.org&quot;, &quot;rel&quot;: &quot;root&quot;, &quot;title&quot;: &quot;ASDI STAC API (dev)&quot;, &quot;type&quot;: &quot;application/json&quot;}, {&quot;href&quot;: &quot;https://dev.asdi-catalog.org/collections/AMAZONIA1-WFI/items/AMAZONIA_1_WFI_20230625_035_019_L4&quot;, &quot;rel&quot;: &quot;self&quot;, &quot;type&quot;: &quot;application/geo+json&quot;}], &quot;properties&quot;: {&quot;amazonia:data_type&quot;: &quot;L4&quot;, &quot;amazonia:path&quot;: 35, &quot;amazonia:row&quot;: 19, &quot;datetime&quot;: &quot;2023-06-25T13:46:26Z&quot;, &quot;gsd&quot;: 64.0, &quot;instruments&quot;: [&quot;WFI&quot;], &quot;platform&quot;: &quot;amazonia-1&quot;, &quot;proj:epsg&quot;: 32722, &quot;sat:orbit_state&quot;: &quot;descending&quot;, &quot;sat:platform_international_designator&quot;: &quot;2021-015A&quot;, &quot;view:off_nadir&quot;: 2.47568e-05, &quot;view:sun_azimuth&quot;: 26.843249999999998, &quot;view:sun_elevation&quot;: 38.1636}, &quot;stac_extensions&quot;: [&quot;https://stac-extensions.github.io/view/v1.0.0/schema.json&quot;, &quot;https://stac-extensions.github.io/sat/v1.0.0/schema.json&quot;, &quot;https://stac-extensions.github.io/projection/v1.1.0/schema.json&quot;, &quot;https://stac-extensions.github.io/eo/v1.0.0/schema.json&quot;], &quot;stac_version&quot;: &quot;1.0.0&quot;, &quot;type&quot;: &quot;Feature&quot;}], &quot;type&quot;: &quot;FeatureCollection&quot;});\n",
       "\n",
       "        \n",
       "    \n",
       "        function geo_json_52a378f090105b4d2ecc195d8b5c2224_styler(feature) {\n",
       "            switch(feature.id) {\n",
       "                default:\n",
       "                    return {&quot;color&quot;: &quot;#ff0000&quot;, &quot;fillColor&quot;: &quot;#ff0000&quot;};\n",
       "            }\n",
       "        }\n",
       "\n",
       "        function geo_json_52a378f090105b4d2ecc195d8b5c2224_onEachFeature(feature, layer) {\n",
       "            layer.on({\n",
       "            });\n",
       "        };\n",
       "        var geo_json_52a378f090105b4d2ecc195d8b5c2224 = L.geoJson(null, {\n",
       "                onEachFeature: geo_json_52a378f090105b4d2ecc195d8b5c2224_onEachFeature,\n",
       "            \n",
       "                style: geo_json_52a378f090105b4d2ecc195d8b5c2224_styler,\n",
       "        });\n",
       "\n",
       "        function geo_json_52a378f090105b4d2ecc195d8b5c2224_add (data) {\n",
       "            geo_json_52a378f090105b4d2ecc195d8b5c2224\n",
       "                .addData(data)\n",
       "                .addTo(map_155d63a5caf7ca7bcf53493e93c502ef);\n",
       "        }\n",
       "            geo_json_52a378f090105b4d2ecc195d8b5c2224_add({&quot;features&quot;: [{&quot;geometry&quot;: {&quot;coordinates&quot;: [[[-48.927635, -25.626009], [-48.927635, -25.323504], [-49.320232, -25.323504], [-49.320232, -25.626009], [-48.927635, -25.626009]]], &quot;type&quot;: &quot;Polygon&quot;}, &quot;id&quot;: &quot;0&quot;, &quot;type&quot;: &quot;Feature&quot;}], &quot;type&quot;: &quot;FeatureCollection&quot;});\n",
       "\n",
       "        \n",
       "&lt;/script&gt;\n",
       "&lt;/html&gt;\" style=\"position:absolute;width:100%;height:100%;left:0;top:0;border:none !important;\" allowfullscreen webkitallowfullscreen mozallowfullscreen></iframe></div></div>"
      ],
      "text/plain": [
       "<folium.folium.Map at 0x106c831f0>"
      ]
     },
     "execution_count": 6,
     "metadata": {},
     "output_type": "execute_result"
    }
   ],
   "source": [
    "# Use Folium to create an interactive map to show the query and results boxes\n",
    "m = folium.Map(location=[center_point.y, center_point.x], zoom_start=6)\n",
    "bbox_style_blue = {'fillColor': '#3388ff', 'color': '#3388ff', 'fillOpacity':'0.05'} #make bbox red\n",
    "folium.GeoJson(source_items.to_dict(), name=\"items\", style_function=lambda x:bbox_style_blue).add_to(m)\n",
    "bbox_style_red = {'fillColor': '#ff0000', 'color': '#ff0000'} #make bbox red\n",
    "folium.GeoJson(bbox_poly, name=\"bbox\", style_function=lambda x:bbox_style_red).add_to(m)\n",
    "m"
   ]
  },
  {
   "cell_type": "markdown",
   "id": "06c83a0d",
   "metadata": {},
   "source": [
    "### Add the search results to the map\n",
    "\n",
    "We'll use [`TiTiler.PgSTAC`](https://stac-utils.github.io/titiler-pgstac/intro/) to save our query as a \"mosaic\" of the 20 overlapping tiles our search found earlier. `TiTiler.PgSTAC` will save our search in a database so that we can use an identifier to refer to the results. So first we create a dictionary describing the search and some visualization options we'll use with the map layer.\n"
   ]
  },
  {
   "cell_type": "code",
   "execution_count": 7,
   "id": "0da6f30e-191d-4e42-a9fd-fde29b2220c6",
   "metadata": {
    "tags": []
   },
   "outputs": [
    {
     "data": {
      "application/json": {
       "bbox": [
        -49.320232,
        -25.626009,
        -48.927635,
        -25.323504
       ],
       "collections": [
        "AMAZONIA1-WFI"
       ],
       "datetime": "2023-06-25T00:00:00Z/2023-06-29T00:00:00Z",
       "filter-lang": "cql-json",
       "metadata": {
        "defaults": {
         "false_color_ir": {
          "assets": [
           "B4",
           "B3",
           "B2"
          ]
         },
         "ndvi": {
          "colormap_name": "viridis",
          "expression": "(B4-B3)/(B4+B3)",
          "rescale": "-1,1"
         },
         "true_color": {
          "assets": [
           "B3",
           "B2",
           "B1"
          ],
          "color_formula": "Gamma RGB 3.5 Saturation 1.7 Sigmoidal RGB 15 0.35"
         }
        },
        "maxzoom": 13,
        "minzoom": 8
       }
      },
      "text/plain": [
       "<IPython.core.display.JSON object>"
      ]
     },
     "execution_count": 7,
     "metadata": {
      "application/json": {
       "expanded": false,
       "root": "root"
      }
     },
     "output_type": "execute_result"
    }
   ],
   "source": [
    "# Take the search parameters, add filter language, and some visualization defaults\n",
    "search_request = { \n",
    "    **source_search.get_parameters(),\n",
    "    \"filter-lang\": \"cql-json\",\n",
    "    \"metadata\": {\n",
    "        \"minzoom\": 8,\n",
    "        \"maxzoom\": 13,\n",
    "        # Set some color schemes to be able to view them\n",
    "        \"defaults\": {\n",
    "            \"true_color\" : {\n",
    "                \"assets\": [\"B3\", \"B2\", \"B1\"],\n",
    "                \"color_formula\": \"Gamma RGB 3.5 Saturation 1.7 Sigmoidal RGB 15 0.35\",\n",
    "            },\n",
    "            \"false_color_ir\" : {\n",
    "                \"assets\": [\"B4\", \"B3\", \"B2\"],\n",
    "            },\n",
    "            \"ndvi\": {\n",
    "                \"expression\": \"(B4-B3)/(B4+B3)\",\n",
    "                \"rescale\": \"-1,1\",\n",
    "                \"colormap_name\": \"viridis\"\n",
    "            }\n",
    "        }\n",
    "    }\n",
    "}\n",
    "JSON(search_request)"
   ]
  },
  {
   "cell_type": "code",
   "execution_count": 8,
   "id": "564e2e4e-3530-4752-9b35-dcfbc6c091a0",
   "metadata": {
    "tags": []
   },
   "outputs": [
    {
     "data": {
      "application/json": {
       "database_online": true
      },
      "text/plain": [
       "<IPython.core.display.JSON object>"
      ]
     },
     "execution_count": 8,
     "metadata": {
      "application/json": {
       "expanded": false,
       "root": "root"
      }
     },
     "output_type": "execute_result"
    }
   ],
   "source": [
    "# Set the API endpoint for the Tiler and check that it's up\n",
    "endpoint = \"https://titiler.dev.asdi-catalog.org\"\n",
    "JSON(httpx.get(f\"{endpoint}/healthz\").json())"
   ]
  },
  {
   "cell_type": "code",
   "execution_count": 9,
   "id": "ae53097a-556f-4500-badb-2ad3e2541c42",
   "metadata": {},
   "outputs": [
    {
     "data": {
      "application/json": {
       "links": [
        {
         "href": "https://titiler.dev.asdi-catalog.org/mosaic/ede989a723f2f016d00211100e4939b2/info",
         "rel": "metadata",
         "type": "application/json"
        },
        {
         "href": "https://titiler.dev.asdi-catalog.org/mosaic/ede989a723f2f016d00211100e4939b2/tilejson.json",
         "rel": "tilejson",
         "type": "application/json"
        }
       ],
       "searchid": "ede989a723f2f016d00211100e4939b2"
      },
      "text/plain": [
       "<IPython.core.display.JSON object>"
      ]
     },
     "execution_count": 9,
     "metadata": {
      "application/json": {
       "expanded": false,
       "root": "root"
      }
     },
     "output_type": "execute_result"
    }
   ],
   "source": [
    "# Register the STAC query as a mosaic\n",
    "response = httpx.post(\n",
    "    f\"{endpoint}/mosaic/register\", json=search_request,\n",
    ").json()\n",
    "searchid = response[\"searchid\"]\n",
    "JSON(response)"
   ]
  },
  {
   "cell_type": "markdown",
   "id": "8c43ba8e",
   "metadata": {},
   "source": [
    "Now that the search is persisted in [`TiTiler.PgSTAC`](https://stac-utils.github.io/titiler-pgstac/intro/), we can start working on adding the tileset to our map. We need to build a tilejson url to the tile server that includes the rendering options we'd like `TiTiler` to use to create our tileset.\n",
    "\n",
    "We can ask `TiTiler` what assets are available in the area of interest. To do this, we use a point in the bounding box (in this case the centroid) to query the `TiTiler` api."
   ]
  },
  {
   "cell_type": "code",
   "execution_count": 10,
   "id": "eaa3f70d",
   "metadata": {},
   "outputs": [
    {
     "name": "stdout",
     "output_type": "stream",
     "text": [
      "dict_keys(['B1', 'B2', 'B3', 'B4', 'metadata', 'thumbnail'])\n"
     ]
    }
   ],
   "source": [
    "center = shp.geometry.box(*bbox).centroid\n",
    "tj_response = httpx.get(f\"{endpoint}/mosaic/{searchid}/{center.x},{center.y}/assets\").json()\n",
    "print(tj_response[0][\"assets\"].keys())"
   ]
  },
  {
   "cell_type": "markdown",
   "id": "4e597e31",
   "metadata": {},
   "source": [
    "These `B#` assets are bands of our dataset. To get a useable tileset, we ask `TiTiler` to combine these bands into images. Here we'll ask `TiTiler` to create a tileset that uses the first three bands to create a color image."
   ]
  },
  {
   "cell_type": "code",
   "execution_count": 11,
   "id": "5c5f6498-6485-47de-b9c5-5b73b2327bd5",
   "metadata": {
    "tags": []
   },
   "outputs": [
    {
     "data": {
      "application/json": {
       "bounds": [
        -49.320232,
        -25.626009,
        -48.927635,
        -25.323504
       ],
       "center": [
        -49.1239335,
        -25.474756499999998,
        8
       ],
       "maxzoom": 13,
       "minzoom": 8,
       "name": "ede989a723f2f016d00211100e4939b2",
       "scheme": "xyz",
       "tilejson": "2.2.0",
       "tiles": [
        "https://titiler.dev.asdi-catalog.org/mosaic/ede989a723f2f016d00211100e4939b2/tiles/WebMercatorQuad/{z}/{x}/{y}@1x?assets=B3&assets=B2&assets=B1&color_formula=Gamma+RGB+3.0+Saturation+1.7+Sigmoidal+RGB+20+0.19"
       ],
       "version": "1.0.0"
      },
      "text/plain": [
       "<IPython.core.display.JSON object>"
      ]
     },
     "execution_count": 11,
     "metadata": {
      "application/json": {
       "expanded": false,
       "root": "root"
      }
     },
     "output_type": "execute_result"
    }
   ],
   "source": [
    "\n",
    "params = {\n",
    "    \"assets\": [\"B3\", \"B2\", \"B1\"],\n",
    "    \"color_formula\": \"Gamma RGB 3.0 Saturation 1.7 Sigmoidal RGB 20 0.19\",\n",
    "}\n",
    "tj_response = httpx.get(\n",
    "  f\"{endpoint}/mosaic/{searchid}/tilejson.json\",\n",
    "  params=params\n",
    ").json()\n",
    "JSON(tj_response)"
   ]
  },
  {
   "cell_type": "code",
   "execution_count": 12,
   "id": "5677e94e-e677-4fc7-ac2c-c96c4936cb24",
   "metadata": {},
   "outputs": [
    {
     "data": {
      "text/html": [
       "<div style=\"width:100%;\"><div style=\"position:relative;width:100%;height:0;padding-bottom:60%;\"><span style=\"color:#565656\">Make this Notebook Trusted to load map: File -> Trust Notebook</span><iframe srcdoc=\"&lt;!DOCTYPE html&gt;\n",
       "&lt;html&gt;\n",
       "&lt;head&gt;\n",
       "    \n",
       "    &lt;meta http-equiv=&quot;content-type&quot; content=&quot;text/html; charset=UTF-8&quot; /&gt;\n",
       "    \n",
       "        &lt;script&gt;\n",
       "            L_NO_TOUCH = false;\n",
       "            L_DISABLE_3D = false;\n",
       "        &lt;/script&gt;\n",
       "    \n",
       "    &lt;style&gt;html, body {width: 100%;height: 100%;margin: 0;padding: 0;}&lt;/style&gt;\n",
       "    &lt;style&gt;#map {position:absolute;top:0;bottom:0;right:0;left:0;}&lt;/style&gt;\n",
       "    &lt;script src=&quot;https://cdn.jsdelivr.net/npm/leaflet@1.9.3/dist/leaflet.js&quot;&gt;&lt;/script&gt;\n",
       "    &lt;script src=&quot;https://code.jquery.com/jquery-1.12.4.min.js&quot;&gt;&lt;/script&gt;\n",
       "    &lt;script src=&quot;https://cdn.jsdelivr.net/npm/bootstrap@5.2.2/dist/js/bootstrap.bundle.min.js&quot;&gt;&lt;/script&gt;\n",
       "    &lt;script src=&quot;https://cdnjs.cloudflare.com/ajax/libs/Leaflet.awesome-markers/2.0.2/leaflet.awesome-markers.js&quot;&gt;&lt;/script&gt;\n",
       "    &lt;link rel=&quot;stylesheet&quot; href=&quot;https://cdn.jsdelivr.net/npm/leaflet@1.9.3/dist/leaflet.css&quot;/&gt;\n",
       "    &lt;link rel=&quot;stylesheet&quot; href=&quot;https://cdn.jsdelivr.net/npm/bootstrap@5.2.2/dist/css/bootstrap.min.css&quot;/&gt;\n",
       "    &lt;link rel=&quot;stylesheet&quot; href=&quot;https://netdna.bootstrapcdn.com/bootstrap/3.0.0/css/bootstrap.min.css&quot;/&gt;\n",
       "    &lt;link rel=&quot;stylesheet&quot; href=&quot;https://cdn.jsdelivr.net/npm/@fortawesome/fontawesome-free@6.2.0/css/all.min.css&quot;/&gt;\n",
       "    &lt;link rel=&quot;stylesheet&quot; href=&quot;https://cdnjs.cloudflare.com/ajax/libs/Leaflet.awesome-markers/2.0.2/leaflet.awesome-markers.css&quot;/&gt;\n",
       "    &lt;link rel=&quot;stylesheet&quot; href=&quot;https://cdn.jsdelivr.net/gh/python-visualization/folium/folium/templates/leaflet.awesome.rotate.min.css&quot;/&gt;\n",
       "    \n",
       "            &lt;meta name=&quot;viewport&quot; content=&quot;width=device-width,\n",
       "                initial-scale=1.0, maximum-scale=1.0, user-scalable=no&quot; /&gt;\n",
       "            &lt;style&gt;\n",
       "                #map_b66726c8387af0dab68502aeb4198f6d {\n",
       "                    position: relative;\n",
       "                    width: 100.0%;\n",
       "                    height: 100.0%;\n",
       "                    left: 0.0%;\n",
       "                    top: 0.0%;\n",
       "                }\n",
       "                .leaflet-container { font-size: 1rem; }\n",
       "            &lt;/style&gt;\n",
       "        \n",
       "&lt;/head&gt;\n",
       "&lt;body&gt;\n",
       "    \n",
       "    \n",
       "            &lt;div class=&quot;folium-map&quot; id=&quot;map_b66726c8387af0dab68502aeb4198f6d&quot; &gt;&lt;/div&gt;\n",
       "        \n",
       "&lt;/body&gt;\n",
       "&lt;script&gt;\n",
       "    \n",
       "    \n",
       "            var map_b66726c8387af0dab68502aeb4198f6d = L.map(\n",
       "                &quot;map_b66726c8387af0dab68502aeb4198f6d&quot;,\n",
       "                {\n",
       "                    center: [-25.474756499999994, -49.1239335],\n",
       "                    crs: L.CRS.EPSG3857,\n",
       "                    zoom: 10,\n",
       "                    zoomControl: true,\n",
       "                    preferCanvas: false,\n",
       "                }\n",
       "            );\n",
       "\n",
       "            \n",
       "\n",
       "        \n",
       "    \n",
       "            var tile_layer_ca911f49744f060a16d644317dfcd358 = L.tileLayer(\n",
       "                &quot;https://{s}.tile.openstreetmap.org/{z}/{x}/{y}.png&quot;,\n",
       "                {&quot;attribution&quot;: &quot;Data by \\u0026copy; \\u003ca target=\\&quot;_blank\\&quot; href=\\&quot;http://openstreetmap.org\\&quot;\\u003eOpenStreetMap\\u003c/a\\u003e, under \\u003ca target=\\&quot;_blank\\&quot; href=\\&quot;http://www.openstreetmap.org/copyright\\&quot;\\u003eODbL\\u003c/a\\u003e.&quot;, &quot;detectRetina&quot;: false, &quot;maxNativeZoom&quot;: 18, &quot;maxZoom&quot;: 18, &quot;minZoom&quot;: 0, &quot;noWrap&quot;: false, &quot;opacity&quot;: 1, &quot;subdomains&quot;: &quot;abc&quot;, &quot;tms&quot;: false}\n",
       "            ).addTo(map_b66726c8387af0dab68502aeb4198f6d);\n",
       "        \n",
       "    \n",
       "        function geo_json_21e397decf3708393729bf83f8d52bb7_styler(feature) {\n",
       "            switch(feature.id) {\n",
       "                default:\n",
       "                    return {&quot;color&quot;: &quot;#ff0000&quot;, &quot;fillColor&quot;: &quot;#ff0000&quot;};\n",
       "            }\n",
       "        }\n",
       "\n",
       "        function geo_json_21e397decf3708393729bf83f8d52bb7_onEachFeature(feature, layer) {\n",
       "            layer.on({\n",
       "            });\n",
       "        };\n",
       "        var geo_json_21e397decf3708393729bf83f8d52bb7 = L.geoJson(null, {\n",
       "                onEachFeature: geo_json_21e397decf3708393729bf83f8d52bb7_onEachFeature,\n",
       "            \n",
       "                style: geo_json_21e397decf3708393729bf83f8d52bb7_styler,\n",
       "        });\n",
       "\n",
       "        function geo_json_21e397decf3708393729bf83f8d52bb7_add (data) {\n",
       "            geo_json_21e397decf3708393729bf83f8d52bb7\n",
       "                .addData(data)\n",
       "                .addTo(map_b66726c8387af0dab68502aeb4198f6d);\n",
       "        }\n",
       "            geo_json_21e397decf3708393729bf83f8d52bb7_add({&quot;features&quot;: [{&quot;geometry&quot;: {&quot;coordinates&quot;: [[[-48.927635, -25.626009], [-48.927635, -25.323504], [-49.320232, -25.323504], [-49.320232, -25.626009], [-48.927635, -25.626009]]], &quot;type&quot;: &quot;Polygon&quot;}, &quot;id&quot;: &quot;0&quot;, &quot;type&quot;: &quot;Feature&quot;}], &quot;type&quot;: &quot;FeatureCollection&quot;});\n",
       "\n",
       "        \n",
       "    \n",
       "            var tile_layer_e229a263878855961899cfdca6bc6d0b = L.tileLayer(\n",
       "                &quot;https://titiler.dev.asdi-catalog.org/mosaic/ede989a723f2f016d00211100e4939b2/tiles/WebMercatorQuad/{z}/{x}/{y}@1x?assets=B3\\u0026assets=B2\\u0026assets=B1\\u0026color_formula=Gamma+RGB+3.0+Saturation+1.7+Sigmoidal+RGB+20+0.19&quot;,\n",
       "                {&quot;attribution&quot;: &quot;Mosaic&quot;, &quot;detectRetina&quot;: false, &quot;maxNativeZoom&quot;: 18, &quot;maxZoom&quot;: 18, &quot;minZoom&quot;: 9, &quot;noWrap&quot;: false, &quot;opacity&quot;: 1, &quot;subdomains&quot;: &quot;abc&quot;, &quot;tms&quot;: false}\n",
       "            ).addTo(map_b66726c8387af0dab68502aeb4198f6d);\n",
       "        \n",
       "&lt;/script&gt;\n",
       "&lt;/html&gt;\" style=\"position:absolute;width:100%;height:100%;left:0;top:0;border:none !important;\" allowfullscreen webkitallowfullscreen mozallowfullscreen></iframe></div></div>"
      ],
      "text/plain": [
       "<folium.folium.Map at 0x1313a12b0>"
      ]
     },
     "execution_count": 12,
     "metadata": {},
     "output_type": "execute_result"
    }
   ],
   "source": [
    "# Make another folium map\n",
    "m = folium.Map(\n",
    "    location=[center_point.y, center_point.x],\n",
    "    zoom_start=10\n",
    ")\n",
    "\n",
    "bbox_style_red = {'fillColor': '#ff0000', 'color': '#ff0000'} #make bbox red\n",
    "folium.GeoJson(bbox_poly, name=\"bbox\", style_function=lambda x:bbox_style_red).add_to(m)\n",
    "# Add the tile later\n",
    "aod_layer = folium.TileLayer(\n",
    "    tiles=tj_response[\"tiles\"][0],\n",
    "    attr=\"Mosaic\",\n",
    "    min_zoom=9,\n",
    "    max_zoom=18,\n",
    "    max_native_zoom=18,\n",
    ")\n",
    "aod_layer.add_to(m)\n",
    "m"
   ]
  },
  {
   "cell_type": "markdown",
   "id": "b8e8d9b1",
   "metadata": {},
   "source": [
    "`TiTiler` can combine the bands in much more intersting ways like visualizing [NVDI](https://en.wikipedia.org/wiki/Normalized_difference_vegetation_index) by applying a formula to the bands. "
   ]
  },
  {
   "cell_type": "code",
   "execution_count": 15,
   "id": "1d1f435e",
   "metadata": {},
   "outputs": [
    {
     "name": "stdout",
     "output_type": "stream",
     "text": [
      "https://titiler.dev.asdi-catalog.org/mosaic/ede989a723f2f016d00211100e4939b2/tiles/WebMercatorQuad/{z}/{x}/{y}@1x?expression=%28B4-B3%29%2F%28B4%2BB3%29&asset_as_band=true&rescale=-1%2C1&colormap_name=viridis\n"
     ]
    },
    {
     "data": {
      "text/html": [
       "<div style=\"width:100%;\"><div style=\"position:relative;width:100%;height:0;padding-bottom:60%;\"><span style=\"color:#565656\">Make this Notebook Trusted to load map: File -> Trust Notebook</span><iframe srcdoc=\"&lt;!DOCTYPE html&gt;\n",
       "&lt;html&gt;\n",
       "&lt;head&gt;\n",
       "    \n",
       "    &lt;meta http-equiv=&quot;content-type&quot; content=&quot;text/html; charset=UTF-8&quot; /&gt;\n",
       "    \n",
       "        &lt;script&gt;\n",
       "            L_NO_TOUCH = false;\n",
       "            L_DISABLE_3D = false;\n",
       "        &lt;/script&gt;\n",
       "    \n",
       "    &lt;style&gt;html, body {width: 100%;height: 100%;margin: 0;padding: 0;}&lt;/style&gt;\n",
       "    &lt;style&gt;#map {position:absolute;top:0;bottom:0;right:0;left:0;}&lt;/style&gt;\n",
       "    &lt;script src=&quot;https://cdn.jsdelivr.net/npm/leaflet@1.9.3/dist/leaflet.js&quot;&gt;&lt;/script&gt;\n",
       "    &lt;script src=&quot;https://code.jquery.com/jquery-1.12.4.min.js&quot;&gt;&lt;/script&gt;\n",
       "    &lt;script src=&quot;https://cdn.jsdelivr.net/npm/bootstrap@5.2.2/dist/js/bootstrap.bundle.min.js&quot;&gt;&lt;/script&gt;\n",
       "    &lt;script src=&quot;https://cdnjs.cloudflare.com/ajax/libs/Leaflet.awesome-markers/2.0.2/leaflet.awesome-markers.js&quot;&gt;&lt;/script&gt;\n",
       "    &lt;link rel=&quot;stylesheet&quot; href=&quot;https://cdn.jsdelivr.net/npm/leaflet@1.9.3/dist/leaflet.css&quot;/&gt;\n",
       "    &lt;link rel=&quot;stylesheet&quot; href=&quot;https://cdn.jsdelivr.net/npm/bootstrap@5.2.2/dist/css/bootstrap.min.css&quot;/&gt;\n",
       "    &lt;link rel=&quot;stylesheet&quot; href=&quot;https://netdna.bootstrapcdn.com/bootstrap/3.0.0/css/bootstrap.min.css&quot;/&gt;\n",
       "    &lt;link rel=&quot;stylesheet&quot; href=&quot;https://cdn.jsdelivr.net/npm/@fortawesome/fontawesome-free@6.2.0/css/all.min.css&quot;/&gt;\n",
       "    &lt;link rel=&quot;stylesheet&quot; href=&quot;https://cdnjs.cloudflare.com/ajax/libs/Leaflet.awesome-markers/2.0.2/leaflet.awesome-markers.css&quot;/&gt;\n",
       "    &lt;link rel=&quot;stylesheet&quot; href=&quot;https://cdn.jsdelivr.net/gh/python-visualization/folium/folium/templates/leaflet.awesome.rotate.min.css&quot;/&gt;\n",
       "    \n",
       "            &lt;meta name=&quot;viewport&quot; content=&quot;width=device-width,\n",
       "                initial-scale=1.0, maximum-scale=1.0, user-scalable=no&quot; /&gt;\n",
       "            &lt;style&gt;\n",
       "                #map_a33d53fe491745bff93dacabd266828e {\n",
       "                    position: relative;\n",
       "                    width: 100.0%;\n",
       "                    height: 100.0%;\n",
       "                    left: 0.0%;\n",
       "                    top: 0.0%;\n",
       "                }\n",
       "                .leaflet-container { font-size: 1rem; }\n",
       "            &lt;/style&gt;\n",
       "        \n",
       "&lt;/head&gt;\n",
       "&lt;body&gt;\n",
       "    \n",
       "    \n",
       "            &lt;div class=&quot;folium-map&quot; id=&quot;map_a33d53fe491745bff93dacabd266828e&quot; &gt;&lt;/div&gt;\n",
       "        \n",
       "&lt;/body&gt;\n",
       "&lt;script&gt;\n",
       "    \n",
       "    \n",
       "            var map_a33d53fe491745bff93dacabd266828e = L.map(\n",
       "                &quot;map_a33d53fe491745bff93dacabd266828e&quot;,\n",
       "                {\n",
       "                    center: [-25.474756499999994, -49.1239335],\n",
       "                    crs: L.CRS.EPSG3857,\n",
       "                    zoom: 10,\n",
       "                    zoomControl: true,\n",
       "                    preferCanvas: false,\n",
       "                }\n",
       "            );\n",
       "\n",
       "            \n",
       "\n",
       "        \n",
       "    \n",
       "            var tile_layer_2b30879c6c37c8fa4b825c2eed753043 = L.tileLayer(\n",
       "                &quot;https://{s}.tile.openstreetmap.org/{z}/{x}/{y}.png&quot;,\n",
       "                {&quot;attribution&quot;: &quot;Data by \\u0026copy; \\u003ca target=\\&quot;_blank\\&quot; href=\\&quot;http://openstreetmap.org\\&quot;\\u003eOpenStreetMap\\u003c/a\\u003e, under \\u003ca target=\\&quot;_blank\\&quot; href=\\&quot;http://www.openstreetmap.org/copyright\\&quot;\\u003eODbL\\u003c/a\\u003e.&quot;, &quot;detectRetina&quot;: false, &quot;maxNativeZoom&quot;: 18, &quot;maxZoom&quot;: 18, &quot;minZoom&quot;: 0, &quot;noWrap&quot;: false, &quot;opacity&quot;: 1, &quot;subdomains&quot;: &quot;abc&quot;, &quot;tms&quot;: false}\n",
       "            ).addTo(map_a33d53fe491745bff93dacabd266828e);\n",
       "        \n",
       "    \n",
       "        function geo_json_a917ff6d3fbff5c353a3bd79628a91f6_styler(feature) {\n",
       "            switch(feature.id) {\n",
       "                default:\n",
       "                    return {&quot;color&quot;: &quot;#ff0000&quot;, &quot;fillColor&quot;: &quot;#ff0000&quot;};\n",
       "            }\n",
       "        }\n",
       "\n",
       "        function geo_json_a917ff6d3fbff5c353a3bd79628a91f6_onEachFeature(feature, layer) {\n",
       "            layer.on({\n",
       "            });\n",
       "        };\n",
       "        var geo_json_a917ff6d3fbff5c353a3bd79628a91f6 = L.geoJson(null, {\n",
       "                onEachFeature: geo_json_a917ff6d3fbff5c353a3bd79628a91f6_onEachFeature,\n",
       "            \n",
       "                style: geo_json_a917ff6d3fbff5c353a3bd79628a91f6_styler,\n",
       "        });\n",
       "\n",
       "        function geo_json_a917ff6d3fbff5c353a3bd79628a91f6_add (data) {\n",
       "            geo_json_a917ff6d3fbff5c353a3bd79628a91f6\n",
       "                .addData(data)\n",
       "                .addTo(map_a33d53fe491745bff93dacabd266828e);\n",
       "        }\n",
       "            geo_json_a917ff6d3fbff5c353a3bd79628a91f6_add({&quot;features&quot;: [{&quot;geometry&quot;: {&quot;coordinates&quot;: [[[-48.927635, -25.626009], [-48.927635, -25.323504], [-49.320232, -25.323504], [-49.320232, -25.626009], [-48.927635, -25.626009]]], &quot;type&quot;: &quot;Polygon&quot;}, &quot;id&quot;: &quot;0&quot;, &quot;type&quot;: &quot;Feature&quot;}], &quot;type&quot;: &quot;FeatureCollection&quot;});\n",
       "\n",
       "        \n",
       "    \n",
       "            var tile_layer_9bd08162bd75c9d07247d7c5e122405d = L.tileLayer(\n",
       "                &quot;https://titiler.dev.asdi-catalog.org/mosaic/ede989a723f2f016d00211100e4939b2/tiles/WebMercatorQuad/{z}/{x}/{y}@1x?expression=%28B4-B3%29%2F%28B4%2BB3%29\\u0026asset_as_band=true\\u0026rescale=-1%2C1\\u0026colormap_name=viridis&quot;,\n",
       "                {&quot;attribution&quot;: &quot;Mosaic&quot;, &quot;detectRetina&quot;: false, &quot;maxNativeZoom&quot;: 18, &quot;maxZoom&quot;: 18, &quot;minZoom&quot;: 9, &quot;noWrap&quot;: false, &quot;opacity&quot;: 1, &quot;subdomains&quot;: &quot;abc&quot;, &quot;tms&quot;: false}\n",
       "            ).addTo(map_a33d53fe491745bff93dacabd266828e);\n",
       "        \n",
       "&lt;/script&gt;\n",
       "&lt;/html&gt;\" style=\"position:absolute;width:100%;height:100%;left:0;top:0;border:none !important;\" allowfullscreen webkitallowfullscreen mozallowfullscreen></iframe></div></div>"
      ],
      "text/plain": [
       "<folium.folium.Map at 0x106b81b50>"
      ]
     },
     "execution_count": 15,
     "metadata": {},
     "output_type": "execute_result"
    }
   ],
   "source": [
    "# Request a tilejson using an expression of bands\n",
    "params = {\n",
    "  'expression': '(B4-B3)/(B4+B3)',\n",
    "  'asset_as_band': True,\n",
    "  'rescale': '-1,1',\n",
    "  'colormap_name': 'viridis'\n",
    "}\n",
    "tj_response = httpx.get(\n",
    "  f\"{endpoint}/mosaic/{searchid}/tilejson.json\",\n",
    "  params=params\n",
    ").json()\n",
    "\n",
    "# Make another folium map\n",
    "m = folium.Map(\n",
    "    location=[center_point.y, center_point.x],\n",
    "    zoom_start=10\n",
    ")\n",
    "\n",
    "bbox_style_red = {'fillColor': '#ff0000', 'color': '#ff0000'} #make bbox red\n",
    "folium.GeoJson(bbox_poly, name=\"bbox\", style_function=lambda x:bbox_style_red).add_to(m)\n",
    "# Add the tile later\n",
    "aod_layer = folium.TileLayer(\n",
    "    tiles=tj_response[\"tiles\"][0],\n",
    "    attr=\"Mosaic\",\n",
    "    min_zoom=9,\n",
    "    max_zoom=18,\n",
    "    max_native_zoom=18,\n",
    ")\n",
    "aod_layer.add_to(m)\n",
    "m"
   ]
  }
 ],
 "metadata": {
  "kernelspec": {
   "display_name": "base",
   "language": "python",
   "name": "python3"
  },
  "language_info": {
   "codemirror_mode": {
    "name": "ipython",
    "version": 3
   },
   "file_extension": ".py",
   "mimetype": "text/x-python",
   "name": "python",
   "nbconvert_exporter": "python",
   "pygments_lexer": "ipython3",
   "version": "3.9.18"
  }
 },
 "nbformat": 4,
 "nbformat_minor": 5
}
