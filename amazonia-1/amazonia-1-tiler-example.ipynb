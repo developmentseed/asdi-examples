{
 "cells": [
  {
   "cell_type": "markdown",
   "id": "e7a93771-2846-485a-9bb3-f70fce48cc48",
   "metadata": {},
   "source": [
    "# Amazonia-1 on AWS Open Data\n",
    "\n",
    "## Accessing Cloud Optimized Multi-Band Raster Data\n",
    "\n",
    "\n",
    "With the AWS ASDI STAC API we can search and load various geospatial datasets. Below we'll work with the Amazonia-1 Satelite WFI Camera, Level-4 Orthorectified data, sourced from Cloud Optimized GeoTIFFs (COGs) [hosted on AWS](https://registry.opendata.aws/amazonia/). In this example, we read in 4 band imagery within a bounding box.\n",
    "\n",
    "First we install any necessary packages. Please note that the following block of code only needs to be run if needed within a new workspace and that you may need to restart the kernel to use updated packages. The code block only needs to be run once for each AWS Sagemaker Studio profile."
   ]
  },
  {
   "cell_type": "code",
   "execution_count": 8,
   "id": "9fa29949-bf8a-4b10-82bc-26db6784ace1",
   "metadata": {
    "tags": []
   },
   "outputs": [
    {
     "name": "stdout",
     "output_type": "stream",
     "text": [
      "Note: you may need to restart the kernel to use updated packages.\n",
      "Note: you may need to restart the kernel to use updated packages.\n"
     ]
    }
   ],
   "source": [
    "%pip install --upgrade pip -q\n",
    "%pip install matplotlib 'pystac_client>=0.5.0' stackstac rasterio folium httpx -q"
   ]
  },
  {
   "cell_type": "code",
   "execution_count": 2,
   "id": "830a9b92-43d3-46eb-b1b9-b70bb7965ead",
   "metadata": {
    "tags": []
   },
   "outputs": [],
   "source": [
    "# All imports in the order they are used in the code\n",
    "import os\n",
    "from pystac_client import Client\n",
    "import stackstac\n",
    "\n",
    "import shapely as shp\n",
    "import folium\n",
    "\n",
    "import rasterio"
   ]
  },
  {
   "cell_type": "markdown",
   "id": "68dca23e-00eb-4f02-8f8d-16bed0c142da",
   "metadata": {},
   "source": [
    "We'll use `pystac_client` to submit our search query, stackstac to load and composite our rasters as an Xarray DataArray, and rio-tiler to performantally load individual COGs."
   ]
  },
  {
   "cell_type": "markdown",
   "id": "555e8b89-08eb-4876-a91b-685507bd5952",
   "metadata": {},
   "source": [
    "### Querying the AWS STAC API with Pystac Client\n",
    "\n",
    "First, we define the URL to our STAC API, a service that allows us to submit search queries for spatio-temporal assets (like elevation raster tiles).\n",
    "\n",
    "Next, we open this URL with `pystac_client`, which allows us to use the client's search method. `client.search` accepts many different arguments to specify the search query. Common query parameters are `time_range` and `bbox` (the spatial bounding box). Since the DEM was collected at one point in time, we will only specify the \"where\" with a `bbox` describing the minx, miny, maxx, maxy coordinates in lat/lon degrees."
   ]
  },
  {
   "cell_type": "code",
   "execution_count": 1,
   "id": "2069753b-85f5-4a15-98a5-a222e6bcae1c",
   "metadata": {
    "tags": []
   },
   "outputs": [
    {
     "name": "stdout",
     "output_type": "stream",
     "text": [
      "Number of WFI tiles:  15\n"
     ]
    }
   ],
   "source": [
    "import os\n",
    "from pystac_client import Client\n",
    "import stackstac\n",
    "\n",
    "# making a connection to AWS STAC API\n",
    "API_ROOT_URL = \"https://dev.asdi-catalog.org\"\n",
    "client = Client.open(API_ROOT_URL)\n",
    "\n",
    "# Search near Curitiba Brazil\n",
    "bbox = [-49.320232, -25.626009, -48.927635, -25.323504]\n",
    "source_search = client.search(\n",
    "        collections=[\"AMAZONIA1-WFI\"], \n",
    "        bbox=bbox,\n",
    "        max_items=100\n",
    "    )\n",
    "# getting the metadata and links to data assets in STAC format\n",
    "source_items = source_search.item_collection()\n",
    "print(\"Number of WFI tiles: \", len(source_items))"
   ]
  },
  {
   "cell_type": "code",
   "execution_count": 6,
   "id": "0da6f30e-191d-4e42-a9fd-fde29b2220c6",
   "metadata": {
    "tags": []
   },
   "outputs": [
    {
     "data": {
      "text/plain": [
       "{'limit': 100,\n",
       " 'bbox': (-49.320232, -25.626009, -48.927635, -25.323504),\n",
       " 'collections': ('AMAZONIA1-WFI',),\n",
       " 'filter-lang': 'cql_json'}"
      ]
     },
     "execution_count": 6,
     "metadata": {},
     "output_type": "execute_result"
    }
   ],
   "source": [
    "# Look at the search parameters\n",
    "search_request = source_search.get_parameters()\n",
    "search_request[\"filter-lang\"] = \"cql_json\"\n",
    "search_request"
   ]
  },
  {
   "cell_type": "code",
   "execution_count": 12,
   "id": "564e2e4e-3530-4752-9b35-dcfbc6c091a0",
   "metadata": {
    "tags": []
   },
   "outputs": [
    {
     "name": "stdout",
     "output_type": "stream",
     "text": [
      "{'database_online': True}\n"
     ]
    }
   ],
   "source": [
    "import httpx\n",
    "\n",
    "endpoint = \"https://titiler.dev.asdi-catalog.org\"\n",
    "print(httpx.get(f\"{endpoint}/healthz\").json())"
   ]
  },
  {
   "cell_type": "code",
   "execution_count": null,
   "id": "ae53097a-556f-4500-badb-2ad3e2541c42",
   "metadata": {},
   "outputs": [],
   "source": [
    "response = httpx.post(\n",
    "    f\"{endpoint}/mosaic/register\", json=search_request,\n",
    ").json()\n",
    "print(response)\n",
    "\n",
    "searchid = response[\"searchid\"]"
   ]
  },
  {
   "cell_type": "markdown",
   "id": "c910d0e7-ad63-4085-9f30-13525c4de52b",
   "metadata": {},
   "source": [
    "### Loading an OpenStreetMap(OSM) descriptive map of the same area\n",
    "\n",
    "To better understand our area of interest, we can create a descriptive map with our bounding box. We'll load an OpenStreetMap basemap that includes place names, annotations for water and forested areas, and roads. We'll use `folium` to access and plot this map. To learn more about `folium`, check out the [documentation](https://python-visualization.github.io/folium/). We'll use our bounding box to specify where we want to center our map and pick a zoom level that shows us detail around San Ignacio."
   ]
  },
  {
   "cell_type": "code",
   "execution_count": 4,
   "id": "234cb89c-11f8-48ff-a119-37dfd5781b4d",
   "metadata": {
    "tags": []
   },
   "outputs": [],
   "source": [
    "# import shapely for manipulation and analysis of geometric objects\n",
    "# in this case to find the center of the bounding box bbox\n",
    "import shapely as shp\n",
    "bbox_poly = shp.geometry.box(*bbox)\n",
    "center_point = (bbox_poly.centroid)"
   ]
  },
  {
   "cell_type": "code",
   "execution_count": 5,
   "id": "b78d9547-a99d-46db-b9a7-dd08f1b7009e",
   "metadata": {
    "tags": []
   },
   "outputs": [
    {
     "data": {
      "text/html": [
       "<div style=\"width:100%;\"><div style=\"position:relative;width:100%;height:0;padding-bottom:60%;\"><span style=\"color:#565656\">Make this Notebook Trusted to load map: File -> Trust Notebook</span><iframe srcdoc=\"&lt;!DOCTYPE html&gt;\n",
       "&lt;html&gt;\n",
       "&lt;head&gt;\n",
       "    \n",
       "    &lt;meta http-equiv=&quot;content-type&quot; content=&quot;text/html; charset=UTF-8&quot; /&gt;\n",
       "    \n",
       "        &lt;script&gt;\n",
       "            L_NO_TOUCH = false;\n",
       "            L_DISABLE_3D = false;\n",
       "        &lt;/script&gt;\n",
       "    \n",
       "    &lt;style&gt;html, body {width: 100%;height: 100%;margin: 0;padding: 0;}&lt;/style&gt;\n",
       "    &lt;style&gt;#map {position:absolute;top:0;bottom:0;right:0;left:0;}&lt;/style&gt;\n",
       "    &lt;script src=&quot;https://cdn.jsdelivr.net/npm/leaflet@1.9.3/dist/leaflet.js&quot;&gt;&lt;/script&gt;\n",
       "    &lt;script src=&quot;https://code.jquery.com/jquery-1.12.4.min.js&quot;&gt;&lt;/script&gt;\n",
       "    &lt;script src=&quot;https://cdn.jsdelivr.net/npm/bootstrap@5.2.2/dist/js/bootstrap.bundle.min.js&quot;&gt;&lt;/script&gt;\n",
       "    &lt;script src=&quot;https://cdnjs.cloudflare.com/ajax/libs/Leaflet.awesome-markers/2.0.2/leaflet.awesome-markers.js&quot;&gt;&lt;/script&gt;\n",
       "    &lt;link rel=&quot;stylesheet&quot; href=&quot;https://cdn.jsdelivr.net/npm/leaflet@1.9.3/dist/leaflet.css&quot;/&gt;\n",
       "    &lt;link rel=&quot;stylesheet&quot; href=&quot;https://cdn.jsdelivr.net/npm/bootstrap@5.2.2/dist/css/bootstrap.min.css&quot;/&gt;\n",
       "    &lt;link rel=&quot;stylesheet&quot; href=&quot;https://netdna.bootstrapcdn.com/bootstrap/3.0.0/css/bootstrap.min.css&quot;/&gt;\n",
       "    &lt;link rel=&quot;stylesheet&quot; href=&quot;https://cdn.jsdelivr.net/npm/@fortawesome/fontawesome-free@6.2.0/css/all.min.css&quot;/&gt;\n",
       "    &lt;link rel=&quot;stylesheet&quot; href=&quot;https://cdnjs.cloudflare.com/ajax/libs/Leaflet.awesome-markers/2.0.2/leaflet.awesome-markers.css&quot;/&gt;\n",
       "    &lt;link rel=&quot;stylesheet&quot; href=&quot;https://cdn.jsdelivr.net/gh/python-visualization/folium/folium/templates/leaflet.awesome.rotate.min.css&quot;/&gt;\n",
       "    \n",
       "            &lt;meta name=&quot;viewport&quot; content=&quot;width=device-width,\n",
       "                initial-scale=1.0, maximum-scale=1.0, user-scalable=no&quot; /&gt;\n",
       "            &lt;style&gt;\n",
       "                #map_c47c4d14a8fece523ab7189ec57c9b67 {\n",
       "                    position: relative;\n",
       "                    width: 100.0%;\n",
       "                    height: 100.0%;\n",
       "                    left: 0.0%;\n",
       "                    top: 0.0%;\n",
       "                }\n",
       "                .leaflet-container { font-size: 1rem; }\n",
       "            &lt;/style&gt;\n",
       "        \n",
       "&lt;/head&gt;\n",
       "&lt;body&gt;\n",
       "    \n",
       "    \n",
       "            &lt;div class=&quot;folium-map&quot; id=&quot;map_c47c4d14a8fece523ab7189ec57c9b67&quot; &gt;&lt;/div&gt;\n",
       "        \n",
       "&lt;/body&gt;\n",
       "&lt;script&gt;\n",
       "    \n",
       "    \n",
       "            var map_c47c4d14a8fece523ab7189ec57c9b67 = L.map(\n",
       "                &quot;map_c47c4d14a8fece523ab7189ec57c9b67&quot;,\n",
       "                {\n",
       "                    center: [-25.474756499999994, -49.1239335],\n",
       "                    crs: L.CRS.EPSG3857,\n",
       "                    zoom: 6,\n",
       "                    zoomControl: true,\n",
       "                    preferCanvas: false,\n",
       "                }\n",
       "            );\n",
       "\n",
       "            \n",
       "\n",
       "        \n",
       "    \n",
       "            var tile_layer_f5ac4b5e8bed2d7ecec25d78b2481e92 = L.tileLayer(\n",
       "                &quot;https://{s}.tile.openstreetmap.org/{z}/{x}/{y}.png&quot;,\n",
       "                {&quot;attribution&quot;: &quot;Data by \\u0026copy; \\u003ca target=\\&quot;_blank\\&quot; href=\\&quot;http://openstreetmap.org\\&quot;\\u003eOpenStreetMap\\u003c/a\\u003e, under \\u003ca target=\\&quot;_blank\\&quot; href=\\&quot;http://www.openstreetmap.org/copyright\\&quot;\\u003eODbL\\u003c/a\\u003e.&quot;, &quot;detectRetina&quot;: false, &quot;maxNativeZoom&quot;: 18, &quot;maxZoom&quot;: 18, &quot;minZoom&quot;: 0, &quot;noWrap&quot;: false, &quot;opacity&quot;: 1, &quot;subdomains&quot;: &quot;abc&quot;, &quot;tms&quot;: false}\n",
       "            ).addTo(map_c47c4d14a8fece523ab7189ec57c9b67);\n",
       "        \n",
       "    \n",
       "        function geo_json_ce63ff6897e706eeaecbe41b22c4ba9d_styler(feature) {\n",
       "            switch(feature.id) {\n",
       "                default:\n",
       "                    return {&quot;color&quot;: &quot;#3388ff&quot;, &quot;fillColor&quot;: &quot;#3388ff&quot;, &quot;fillOpacity&quot;: &quot;0.05&quot;};\n",
       "            }\n",
       "        }\n",
       "\n",
       "        function geo_json_ce63ff6897e706eeaecbe41b22c4ba9d_onEachFeature(feature, layer) {\n",
       "            layer.on({\n",
       "            });\n",
       "        };\n",
       "        var geo_json_ce63ff6897e706eeaecbe41b22c4ba9d = L.geoJson(null, {\n",
       "                onEachFeature: geo_json_ce63ff6897e706eeaecbe41b22c4ba9d_onEachFeature,\n",
       "            \n",
       "                style: geo_json_ce63ff6897e706eeaecbe41b22c4ba9d_styler,\n",
       "        });\n",
       "\n",
       "        function geo_json_ce63ff6897e706eeaecbe41b22c4ba9d_add (data) {\n",
       "            geo_json_ce63ff6897e706eeaecbe41b22c4ba9d\n",
       "                .addData(data)\n",
       "                .addTo(map_c47c4d14a8fece523ab7189ec57c9b67);\n",
       "        }\n",
       "            geo_json_ce63ff6897e706eeaecbe41b22c4ba9d_add({&quot;features&quot;: [{&quot;assets&quot;: {&quot;B1&quot;: {&quot;eo:bands&quot;: [{&quot;common_name&quot;: &quot;blue&quot;, &quot;name&quot;: &quot;B1&quot;}], &quot;href&quot;: &quot;s3://amazonia-pds/AMAZONIA1/WFI/034/019/AMAZONIA_1_WFI_20230728_034_019_L4/AMAZONIA_1_WFI_20230728_034_019_L4_BAND1.tif&quot;, &quot;type&quot;: &quot;image/tiff; application=geotiff; profile=cloud-optimized&quot;}, &quot;B2&quot;: {&quot;eo:bands&quot;: [{&quot;common_name&quot;: &quot;green&quot;, &quot;name&quot;: &quot;B2&quot;}], &quot;href&quot;: &quot;s3://amazonia-pds/AMAZONIA1/WFI/034/019/AMAZONIA_1_WFI_20230728_034_019_L4/AMAZONIA_1_WFI_20230728_034_019_L4_BAND2.tif&quot;, &quot;type&quot;: &quot;image/tiff; application=geotiff; profile=cloud-optimized&quot;}, &quot;B3&quot;: {&quot;eo:bands&quot;: [{&quot;common_name&quot;: &quot;red&quot;, &quot;name&quot;: &quot;B3&quot;}], &quot;href&quot;: &quot;s3://amazonia-pds/AMAZONIA1/WFI/034/019/AMAZONIA_1_WFI_20230728_034_019_L4/AMAZONIA_1_WFI_20230728_034_019_L4_BAND3.tif&quot;, &quot;type&quot;: &quot;image/tiff; application=geotiff; profile=cloud-optimized&quot;}, &quot;B4&quot;: {&quot;eo:bands&quot;: [{&quot;common_name&quot;: &quot;nir&quot;, &quot;name&quot;: &quot;B4&quot;}], &quot;href&quot;: &quot;s3://amazonia-pds/AMAZONIA1/WFI/034/019/AMAZONIA_1_WFI_20230728_034_019_L4/AMAZONIA_1_WFI_20230728_034_019_L4_BAND4.tif&quot;, &quot;type&quot;: &quot;image/tiff; application=geotiff; profile=cloud-optimized&quot;}, &quot;metadata&quot;: {&quot;href&quot;: &quot;s3://amazonia-pds/AMAZONIA1/WFI/034/019/AMAZONIA_1_WFI_20230728_034_019_L4/AMAZONIA_1_WFI_20230728_034_019_L4_BAND2.xml&quot;, &quot;title&quot;: &quot;INPE original metadata&quot;, &quot;type&quot;: &quot;application/xml&quot;}, &quot;thumbnail&quot;: {&quot;href&quot;: &quot;https://s3.amazonaws.com/amazonia-meta-pds/AMAZONIA1/WFI/034/019/AMAZONIA_1_WFI_20230728_034_019_L4/AMAZONIA_1_WFI_20230728_034_019.png&quot;, &quot;title&quot;: &quot;Thumbnail&quot;, &quot;type&quot;: &quot;image/png&quot;}}, &quot;bbox&quot;: [-50.425793, -27.885354, -40.265903, -19.67495], &quot;collection&quot;: &quot;AMAZONIA1-WFI&quot;, &quot;geometry&quot;: {&quot;coordinates&quot;: [[[[-50.38551, -26.458638], [-41.700133, -27.812586], [-40.257835, -21.004069], [-48.4884, -19.7193], [-50.38551, -26.458638]]]], &quot;type&quot;: &quot;MultiPolygon&quot;}, &quot;id&quot;: &quot;AMAZONIA_1_WFI_20230728_034_019_L4&quot;, &quot;links&quot;: [{&quot;href&quot;: &quot;https://dev.asdi-catalog.org/collections/AMAZONIA1-WFI&quot;, &quot;rel&quot;: &quot;collection&quot;, &quot;type&quot;: &quot;application/json&quot;}, {&quot;href&quot;: &quot;https://dev.asdi-catalog.org/collections/AMAZONIA1-WFI&quot;, &quot;rel&quot;: &quot;parent&quot;, &quot;type&quot;: &quot;application/json&quot;}, {&quot;href&quot;: &quot;https://dev.asdi-catalog.org&quot;, &quot;rel&quot;: &quot;root&quot;, &quot;title&quot;: &quot;ASDI STAC API (dev)&quot;, &quot;type&quot;: &quot;application/json&quot;}, {&quot;href&quot;: &quot;https://dev.asdi-catalog.org/collections/AMAZONIA1-WFI/items/AMAZONIA_1_WFI_20230728_034_019_L4&quot;, &quot;rel&quot;: &quot;self&quot;, &quot;type&quot;: &quot;application/geo+json&quot;}], &quot;properties&quot;: {&quot;amazonia:data_type&quot;: &quot;L4&quot;, &quot;amazonia:path&quot;: 34, &quot;amazonia:row&quot;: 19, &quot;datetime&quot;: &quot;2023-07-28T13:26:38Z&quot;, &quot;gsd&quot;: 64.0, &quot;instruments&quot;: [&quot;WFI&quot;], &quot;platform&quot;: &quot;amazonia-1&quot;, &quot;proj:epsg&quot;: 32723, &quot;sat:orbit_state&quot;: &quot;descending&quot;, &quot;sat:platform_international_designator&quot;: &quot;2021-015A&quot;, &quot;view:off_nadir&quot;: 0.00403414, &quot;view:sun_azimuth&quot;: 30.5869, &quot;view:sun_elevation&quot;: 41.50995}, &quot;stac_extensions&quot;: [&quot;https://stac-extensions.github.io/view/v1.0.0/schema.json&quot;, &quot;https://stac-extensions.github.io/sat/v1.0.0/schema.json&quot;, &quot;https://stac-extensions.github.io/projection/v1.1.0/schema.json&quot;, &quot;https://stac-extensions.github.io/eo/v1.0.0/schema.json&quot;], &quot;stac_version&quot;: &quot;1.0.0&quot;, &quot;type&quot;: &quot;Feature&quot;}, {&quot;assets&quot;: {&quot;B1&quot;: {&quot;eo:bands&quot;: [{&quot;common_name&quot;: &quot;blue&quot;, &quot;name&quot;: &quot;B1&quot;}], &quot;href&quot;: &quot;s3://amazonia-pds/AMAZONIA1/WFI/035/019/AMAZONIA_1_WFI_20230725_035_019_L4/AMAZONIA_1_WFI_20230725_035_019_L4_BAND1.tif&quot;, &quot;type&quot;: &quot;image/tiff; application=geotiff; profile=cloud-optimized&quot;}, &quot;B2&quot;: {&quot;eo:bands&quot;: [{&quot;common_name&quot;: &quot;green&quot;, &quot;name&quot;: &quot;B2&quot;}], &quot;href&quot;: &quot;s3://amazonia-pds/AMAZONIA1/WFI/035/019/AMAZONIA_1_WFI_20230725_035_019_L4/AMAZONIA_1_WFI_20230725_035_019_L4_BAND2.tif&quot;, &quot;type&quot;: &quot;image/tiff; application=geotiff; profile=cloud-optimized&quot;}, &quot;B3&quot;: {&quot;eo:bands&quot;: [{&quot;common_name&quot;: &quot;red&quot;, &quot;name&quot;: &quot;B3&quot;}], &quot;href&quot;: &quot;s3://amazonia-pds/AMAZONIA1/WFI/035/019/AMAZONIA_1_WFI_20230725_035_019_L4/AMAZONIA_1_WFI_20230725_035_019_L4_BAND3.tif&quot;, &quot;type&quot;: &quot;image/tiff; application=geotiff; profile=cloud-optimized&quot;}, &quot;B4&quot;: {&quot;eo:bands&quot;: [{&quot;common_name&quot;: &quot;nir&quot;, &quot;name&quot;: &quot;B4&quot;}], &quot;href&quot;: &quot;s3://amazonia-pds/AMAZONIA1/WFI/035/019/AMAZONIA_1_WFI_20230725_035_019_L4/AMAZONIA_1_WFI_20230725_035_019_L4_BAND4.tif&quot;, &quot;type&quot;: &quot;image/tiff; application=geotiff; profile=cloud-optimized&quot;}, &quot;metadata&quot;: {&quot;href&quot;: &quot;s3://amazonia-pds/AMAZONIA1/WFI/035/019/AMAZONIA_1_WFI_20230725_035_019_L4/AMAZONIA_1_WFI_20230725_035_019_L4_BAND2.xml&quot;, &quot;title&quot;: &quot;INPE original metadata&quot;, &quot;type&quot;: &quot;application/xml&quot;}, &quot;thumbnail&quot;: {&quot;href&quot;: &quot;https://s3.amazonaws.com/amazonia-meta-pds/AMAZONIA1/WFI/035/019/AMAZONIA_1_WFI_20230725_035_019_L4/AMAZONIA_1_WFI_20230725_035_019.png&quot;, &quot;title&quot;: &quot;Thumbnail&quot;, &quot;type&quot;: &quot;image/png&quot;}}, &quot;bbox&quot;: [-55.423494, -27.918556, -45.272766, -19.652511], &quot;collection&quot;: &quot;AMAZONIA1-WFI&quot;, &quot;geometry&quot;: {&quot;coordinates&quot;: [[[[-55.38774, -26.459398], [-46.702043, -27.813194], [-45.259874, -21.004711], [-53.490761, -19.720087], [-55.38774, -26.459398]]]], &quot;type&quot;: &quot;MultiPolygon&quot;}, &quot;id&quot;: &quot;AMAZONIA_1_WFI_20230725_035_019_L4&quot;, &quot;links&quot;: [{&quot;href&quot;: &quot;https://dev.asdi-catalog.org/collections/AMAZONIA1-WFI&quot;, &quot;rel&quot;: &quot;collection&quot;, &quot;type&quot;: &quot;application/json&quot;}, {&quot;href&quot;: &quot;https://dev.asdi-catalog.org/collections/AMAZONIA1-WFI&quot;, &quot;rel&quot;: &quot;parent&quot;, &quot;type&quot;: &quot;application/json&quot;}, {&quot;href&quot;: &quot;https://dev.asdi-catalog.org&quot;, &quot;rel&quot;: &quot;root&quot;, &quot;title&quot;: &quot;ASDI STAC API (dev)&quot;, &quot;type&quot;: &quot;application/json&quot;}, {&quot;href&quot;: &quot;https://dev.asdi-catalog.org/collections/AMAZONIA1-WFI/items/AMAZONIA_1_WFI_20230725_035_019_L4&quot;, &quot;rel&quot;: &quot;self&quot;, &quot;type&quot;: &quot;application/geo+json&quot;}], &quot;properties&quot;: {&quot;amazonia:data_type&quot;: &quot;L4&quot;, &quot;amazonia:path&quot;: 35, &quot;amazonia:row&quot;: 19, &quot;datetime&quot;: &quot;2023-07-25T13:46:39Z&quot;, &quot;gsd&quot;: 64.0, &quot;instruments&quot;: [&quot;WFI&quot;], &quot;platform&quot;: &quot;amazonia-1&quot;, &quot;proj:epsg&quot;: 32722, &quot;sat:orbit_state&quot;: &quot;descending&quot;, &quot;sat:platform_international_designator&quot;: &quot;2021-015A&quot;, &quot;view:off_nadir&quot;: 0.000136252, &quot;view:sun_azimuth&quot;: 30.1374, &quot;view:sun_elevation&quot;: 40.9396}, &quot;stac_extensions&quot;: [&quot;https://stac-extensions.github.io/view/v1.0.0/schema.json&quot;, &quot;https://stac-extensions.github.io/sat/v1.0.0/schema.json&quot;, &quot;https://stac-extensions.github.io/projection/v1.1.0/schema.json&quot;, &quot;https://stac-extensions.github.io/eo/v1.0.0/schema.json&quot;], &quot;stac_version&quot;: &quot;1.0.0&quot;, &quot;type&quot;: &quot;Feature&quot;}, {&quot;assets&quot;: {&quot;B1&quot;: {&quot;eo:bands&quot;: [{&quot;common_name&quot;: &quot;blue&quot;, &quot;name&quot;: &quot;B1&quot;}], &quot;href&quot;: &quot;s3://amazonia-pds/AMAZONIA1/WFI/034/019/AMAZONIA_1_WFI_20230723_034_019_L4/AMAZONIA_1_WFI_20230723_034_019_L4_BAND1.tif&quot;, &quot;type&quot;: &quot;image/tiff; application=geotiff; profile=cloud-optimized&quot;}, &quot;B2&quot;: {&quot;eo:bands&quot;: [{&quot;common_name&quot;: &quot;green&quot;, &quot;name&quot;: &quot;B2&quot;}], &quot;href&quot;: &quot;s3://amazonia-pds/AMAZONIA1/WFI/034/019/AMAZONIA_1_WFI_20230723_034_019_L4/AMAZONIA_1_WFI_20230723_034_019_L4_BAND2.tif&quot;, &quot;type&quot;: &quot;image/tiff; application=geotiff; profile=cloud-optimized&quot;}, &quot;B3&quot;: {&quot;eo:bands&quot;: [{&quot;common_name&quot;: &quot;red&quot;, &quot;name&quot;: &quot;B3&quot;}], &quot;href&quot;: &quot;s3://amazonia-pds/AMAZONIA1/WFI/034/019/AMAZONIA_1_WFI_20230723_034_019_L4/AMAZONIA_1_WFI_20230723_034_019_L4_BAND3.tif&quot;, &quot;type&quot;: &quot;image/tiff; application=geotiff; profile=cloud-optimized&quot;}, &quot;B4&quot;: {&quot;eo:bands&quot;: [{&quot;common_name&quot;: &quot;nir&quot;, &quot;name&quot;: &quot;B4&quot;}], &quot;href&quot;: &quot;s3://amazonia-pds/AMAZONIA1/WFI/034/019/AMAZONIA_1_WFI_20230723_034_019_L4/AMAZONIA_1_WFI_20230723_034_019_L4_BAND4.tif&quot;, &quot;type&quot;: &quot;image/tiff; application=geotiff; profile=cloud-optimized&quot;}, &quot;metadata&quot;: {&quot;href&quot;: &quot;s3://amazonia-pds/AMAZONIA1/WFI/034/019/AMAZONIA_1_WFI_20230723_034_019_L4/AMAZONIA_1_WFI_20230723_034_019_L4_BAND2.xml&quot;, &quot;title&quot;: &quot;INPE original metadata&quot;, &quot;type&quot;: &quot;application/xml&quot;}, &quot;thumbnail&quot;: {&quot;href&quot;: &quot;https://s3.amazonaws.com/amazonia-meta-pds/AMAZONIA1/WFI/034/019/AMAZONIA_1_WFI_20230723_034_019_L4/AMAZONIA_1_WFI_20230723_034_019.png&quot;, &quot;title&quot;: &quot;Thumbnail&quot;, &quot;type&quot;: &quot;image/png&quot;}}, &quot;bbox&quot;: [-50.429009, -27.885327, -40.268957, -19.675543], &quot;collection&quot;: &quot;AMAZONIA1-WFI&quot;, &quot;geometry&quot;: {&quot;coordinates&quot;: [[[[-50.389039, -26.45907], [-41.703254, -27.812903], [-40.261005, -21.004471], [-48.492066, -19.719796], [-50.389039, -26.45907]]]], &quot;type&quot;: &quot;MultiPolygon&quot;}, &quot;id&quot;: &quot;AMAZONIA_1_WFI_20230723_034_019_L4&quot;, &quot;links&quot;: [{&quot;href&quot;: &quot;https://dev.asdi-catalog.org/collections/AMAZONIA1-WFI&quot;, &quot;rel&quot;: &quot;collection&quot;, &quot;type&quot;: &quot;application/json&quot;}, {&quot;href&quot;: &quot;https://dev.asdi-catalog.org/collections/AMAZONIA1-WFI&quot;, &quot;rel&quot;: &quot;parent&quot;, &quot;type&quot;: &quot;application/json&quot;}, {&quot;href&quot;: &quot;https://dev.asdi-catalog.org&quot;, &quot;rel&quot;: &quot;root&quot;, &quot;title&quot;: &quot;ASDI STAC API (dev)&quot;, &quot;type&quot;: &quot;application/json&quot;}, {&quot;href&quot;: &quot;https://dev.asdi-catalog.org/collections/AMAZONIA1-WFI/items/AMAZONIA_1_WFI_20230723_034_019_L4&quot;, &quot;rel&quot;: &quot;self&quot;, &quot;type&quot;: &quot;application/geo+json&quot;}], &quot;properties&quot;: {&quot;amazonia:data_type&quot;: &quot;L4&quot;, &quot;amazonia:path&quot;: 34, &quot;amazonia:row&quot;: 19, &quot;datetime&quot;: &quot;2023-07-23T13:26:39Z&quot;, &quot;gsd&quot;: 64.0, &quot;instruments&quot;: [&quot;WFI&quot;], &quot;platform&quot;: &quot;amazonia-1&quot;, &quot;proj:epsg&quot;: 32723, &quot;sat:orbit_state&quot;: &quot;descending&quot;, &quot;sat:platform_international_designator&quot;: &quot;2021-015A&quot;, &quot;view:off_nadir&quot;: 0.000198375, &quot;view:sun_azimuth&quot;: 29.87345, &quot;view:sun_elevation&quot;: 40.57695}, &quot;stac_extensions&quot;: [&quot;https://stac-extensions.github.io/view/v1.0.0/schema.json&quot;, &quot;https://stac-extensions.github.io/sat/v1.0.0/schema.json&quot;, &quot;https://stac-extensions.github.io/projection/v1.1.0/schema.json&quot;, &quot;https://stac-extensions.github.io/eo/v1.0.0/schema.json&quot;], &quot;stac_version&quot;: &quot;1.0.0&quot;, &quot;type&quot;: &quot;Feature&quot;}, {&quot;assets&quot;: {&quot;B1&quot;: {&quot;eo:bands&quot;: [{&quot;common_name&quot;: &quot;blue&quot;, &quot;name&quot;: &quot;B1&quot;}], &quot;href&quot;: &quot;s3://amazonia-pds/AMAZONIA1/WFI/035/019/AMAZONIA_1_WFI_20230720_035_019_L4/AMAZONIA_1_WFI_20230720_035_019_L4_BAND1.tif&quot;, &quot;type&quot;: &quot;image/tiff; application=geotiff; profile=cloud-optimized&quot;}, &quot;B2&quot;: {&quot;eo:bands&quot;: [{&quot;common_name&quot;: &quot;green&quot;, &quot;name&quot;: &quot;B2&quot;}], &quot;href&quot;: &quot;s3://amazonia-pds/AMAZONIA1/WFI/035/019/AMAZONIA_1_WFI_20230720_035_019_L4/AMAZONIA_1_WFI_20230720_035_019_L4_BAND2.tif&quot;, &quot;type&quot;: &quot;image/tiff; application=geotiff; profile=cloud-optimized&quot;}, &quot;B3&quot;: {&quot;eo:bands&quot;: [{&quot;common_name&quot;: &quot;red&quot;, &quot;name&quot;: &quot;B3&quot;}], &quot;href&quot;: &quot;s3://amazonia-pds/AMAZONIA1/WFI/035/019/AMAZONIA_1_WFI_20230720_035_019_L4/AMAZONIA_1_WFI_20230720_035_019_L4_BAND3.tif&quot;, &quot;type&quot;: &quot;image/tiff; application=geotiff; profile=cloud-optimized&quot;}, &quot;B4&quot;: {&quot;eo:bands&quot;: [{&quot;common_name&quot;: &quot;nir&quot;, &quot;name&quot;: &quot;B4&quot;}], &quot;href&quot;: &quot;s3://amazonia-pds/AMAZONIA1/WFI/035/019/AMAZONIA_1_WFI_20230720_035_019_L4/AMAZONIA_1_WFI_20230720_035_019_L4_BAND4.tif&quot;, &quot;type&quot;: &quot;image/tiff; application=geotiff; profile=cloud-optimized&quot;}, &quot;metadata&quot;: {&quot;href&quot;: &quot;s3://amazonia-pds/AMAZONIA1/WFI/035/019/AMAZONIA_1_WFI_20230720_035_019_L4/AMAZONIA_1_WFI_20230720_035_019_L4_BAND2.xml&quot;, &quot;title&quot;: &quot;INPE original metadata&quot;, &quot;type&quot;: &quot;application/xml&quot;}, &quot;thumbnail&quot;: {&quot;href&quot;: &quot;https://s3.amazonaws.com/amazonia-meta-pds/AMAZONIA1/WFI/035/019/AMAZONIA_1_WFI_20230720_035_019_L4/AMAZONIA_1_WFI_20230720_035_019.png&quot;, &quot;title&quot;: &quot;Thumbnail&quot;, &quot;type&quot;: &quot;image/png&quot;}}, &quot;bbox&quot;: [-55.425427, -27.918553, -45.273965, -19.652529], &quot;collection&quot;: &quot;AMAZONIA1-WFI&quot;, &quot;geometry&quot;: {&quot;coordinates&quot;: [[[[-55.390131, -26.459653], [-46.703623, -27.813255], [-45.261319, -21.004915], [-53.493119, -19.720472], [-55.390131, -26.459653]]]], &quot;type&quot;: &quot;MultiPolygon&quot;}, &quot;id&quot;: &quot;AMAZONIA_1_WFI_20230720_035_019_L4&quot;, &quot;links&quot;: [{&quot;href&quot;: &quot;https://dev.asdi-catalog.org/collections/AMAZONIA1-WFI&quot;, &quot;rel&quot;: &quot;collection&quot;, &quot;type&quot;: &quot;application/json&quot;}, {&quot;href&quot;: &quot;https://dev.asdi-catalog.org/collections/AMAZONIA1-WFI&quot;, &quot;rel&quot;: &quot;parent&quot;, &quot;type&quot;: &quot;application/json&quot;}, {&quot;href&quot;: &quot;https://dev.asdi-catalog.org&quot;, &quot;rel&quot;: &quot;root&quot;, &quot;title&quot;: &quot;ASDI STAC API (dev)&quot;, &quot;type&quot;: &quot;application/json&quot;}, {&quot;href&quot;: &quot;https://dev.asdi-catalog.org/collections/AMAZONIA1-WFI/items/AMAZONIA_1_WFI_20230720_035_019_L4&quot;, &quot;rel&quot;: &quot;self&quot;, &quot;type&quot;: &quot;application/geo+json&quot;}], &quot;properties&quot;: {&quot;amazonia:data_type&quot;: &quot;L4&quot;, &quot;amazonia:path&quot;: 35, &quot;amazonia:row&quot;: 19, &quot;datetime&quot;: &quot;2023-07-20T13:46:39Z&quot;, &quot;gsd&quot;: 64.0, &quot;instruments&quot;: [&quot;WFI&quot;], &quot;platform&quot;: &quot;amazonia-1&quot;, &quot;proj:epsg&quot;: 32722, &quot;sat:orbit_state&quot;: &quot;descending&quot;, &quot;sat:platform_international_designator&quot;: &quot;2021-015A&quot;, &quot;view:off_nadir&quot;: 0.000144213, &quot;view:sun_azimuth&quot;: 29.45145, &quot;view:sun_elevation&quot;: 40.092349999999996}, &quot;stac_extensions&quot;: [&quot;https://stac-extensions.github.io/view/v1.0.0/schema.json&quot;, &quot;https://stac-extensions.github.io/sat/v1.0.0/schema.json&quot;, &quot;https://stac-extensions.github.io/projection/v1.1.0/schema.json&quot;, &quot;https://stac-extensions.github.io/eo/v1.0.0/schema.json&quot;], &quot;stac_version&quot;: &quot;1.0.0&quot;, &quot;type&quot;: &quot;Feature&quot;}, {&quot;assets&quot;: {&quot;B1&quot;: {&quot;eo:bands&quot;: [{&quot;common_name&quot;: &quot;blue&quot;, &quot;name&quot;: &quot;B1&quot;}], &quot;href&quot;: &quot;s3://amazonia-pds/AMAZONIA1/WFI/034/019/AMAZONIA_1_WFI_20230718_034_019_L4/AMAZONIA_1_WFI_20230718_034_019_L4_LEFT_BAND1.tif&quot;, &quot;type&quot;: &quot;image/tiff; application=geotiff; profile=cloud-optimized&quot;}, &quot;B2&quot;: {&quot;eo:bands&quot;: [{&quot;common_name&quot;: &quot;green&quot;, &quot;name&quot;: &quot;B2&quot;}], &quot;href&quot;: &quot;s3://amazonia-pds/AMAZONIA1/WFI/034/019/AMAZONIA_1_WFI_20230718_034_019_L4/AMAZONIA_1_WFI_20230718_034_019_L4_LEFT_BAND2.tif&quot;, &quot;type&quot;: &quot;image/tiff; application=geotiff; profile=cloud-optimized&quot;}, &quot;B3&quot;: {&quot;eo:bands&quot;: [{&quot;common_name&quot;: &quot;red&quot;, &quot;name&quot;: &quot;B3&quot;}], &quot;href&quot;: &quot;s3://amazonia-pds/AMAZONIA1/WFI/034/019/AMAZONIA_1_WFI_20230718_034_019_L4/AMAZONIA_1_WFI_20230718_034_019_L4_LEFT_BAND3.tif&quot;, &quot;type&quot;: &quot;image/tiff; application=geotiff; profile=cloud-optimized&quot;}, &quot;B4&quot;: {&quot;eo:bands&quot;: [{&quot;common_name&quot;: &quot;nir&quot;, &quot;name&quot;: &quot;B4&quot;}], &quot;href&quot;: &quot;s3://amazonia-pds/AMAZONIA1/WFI/034/019/AMAZONIA_1_WFI_20230718_034_019_L4/AMAZONIA_1_WFI_20230718_034_019_L4_LEFT_BAND4.tif&quot;, &quot;type&quot;: &quot;image/tiff; application=geotiff; profile=cloud-optimized&quot;}, &quot;metadata&quot;: {&quot;href&quot;: &quot;s3://amazonia-pds/AMAZONIA1/WFI/034/019/AMAZONIA_1_WFI_20230718_034_019_L4/AMAZONIA_1_WFI_20230718_034_019_L4_LEFT_BAND2.xml&quot;, &quot;title&quot;: &quot;INPE original metadata&quot;, &quot;type&quot;: &quot;application/xml&quot;}, &quot;thumbnail&quot;: {&quot;href&quot;: &quot;https://s3.amazonaws.com/amazonia-meta-pds/AMAZONIA1/WFI/034/019/AMAZONIA_1_WFI_20230718_034_019_L4/AMAZONIA_1_WFI_20230718_034_019.png&quot;, &quot;title&quot;: &quot;Thumbnail&quot;, &quot;type&quot;: &quot;image/png&quot;}}, &quot;bbox&quot;: [-50.430323, -27.155788, -44.265484, -19.675546], &quot;collection&quot;: &quot;AMAZONIA1-WFI&quot;, &quot;geometry&quot;: {&quot;coordinates&quot;: [[[[-50.390287, -26.45914], [-45.946244, -27.224756], [-44.2737, -20.431452], [-48.493207, -19.720012], [-50.390287, -26.45914]]]], &quot;type&quot;: &quot;MultiPolygon&quot;}, &quot;id&quot;: &quot;AMAZONIA_1_WFI_20230718_034_019_L4&quot;, &quot;links&quot;: [{&quot;href&quot;: &quot;https://dev.asdi-catalog.org/collections/AMAZONIA1-WFI&quot;, &quot;rel&quot;: &quot;collection&quot;, &quot;type&quot;: &quot;application/json&quot;}, {&quot;href&quot;: &quot;https://dev.asdi-catalog.org/collections/AMAZONIA1-WFI&quot;, &quot;rel&quot;: &quot;parent&quot;, &quot;type&quot;: &quot;application/json&quot;}, {&quot;href&quot;: &quot;https://dev.asdi-catalog.org&quot;, &quot;rel&quot;: &quot;root&quot;, &quot;title&quot;: &quot;ASDI STAC API (dev)&quot;, &quot;type&quot;: &quot;application/json&quot;}, {&quot;href&quot;: &quot;https://dev.asdi-catalog.org/collections/AMAZONIA1-WFI/items/AMAZONIA_1_WFI_20230718_034_019_L4&quot;, &quot;rel&quot;: &quot;self&quot;, &quot;type&quot;: &quot;application/geo+json&quot;}], &quot;properties&quot;: {&quot;amazonia:data_type&quot;: &quot;L4&quot;, &quot;amazonia:path&quot;: 34, &quot;amazonia:row&quot;: 19, &quot;datetime&quot;: &quot;2023-07-18T13:26:39Z&quot;, &quot;gsd&quot;: 64.0, &quot;instruments&quot;: [&quot;WFI&quot;], &quot;platform&quot;: &quot;amazonia-1&quot;, &quot;proj:epsg&quot;: 32723, &quot;sat:orbit_state&quot;: &quot;descending&quot;, &quot;sat:platform_international_designator&quot;: &quot;2021-015A&quot;, &quot;view:off_nadir&quot;: 0.000174947, &quot;view:sun_azimuth&quot;: 31.4844, &quot;view:sun_elevation&quot;: 39.1997}, &quot;stac_extensions&quot;: [&quot;https://stac-extensions.github.io/view/v1.0.0/schema.json&quot;, &quot;https://stac-extensions.github.io/sat/v1.0.0/schema.json&quot;, &quot;https://stac-extensions.github.io/projection/v1.1.0/schema.json&quot;, &quot;https://stac-extensions.github.io/eo/v1.0.0/schema.json&quot;], &quot;stac_version&quot;: &quot;1.0.0&quot;, &quot;type&quot;: &quot;Feature&quot;}, {&quot;assets&quot;: {&quot;B1&quot;: {&quot;eo:bands&quot;: [{&quot;common_name&quot;: &quot;blue&quot;, &quot;name&quot;: &quot;B1&quot;}], &quot;href&quot;: &quot;s3://amazonia-pds/AMAZONIA1/WFI/034/019/AMAZONIA_1_WFI_20230713_034_019_L4/AMAZONIA_1_WFI_20230713_034_019_L4_BAND1.tif&quot;, &quot;type&quot;: &quot;image/tiff; application=geotiff; profile=cloud-optimized&quot;}, &quot;B2&quot;: {&quot;eo:bands&quot;: [{&quot;common_name&quot;: &quot;green&quot;, &quot;name&quot;: &quot;B2&quot;}], &quot;href&quot;: &quot;s3://amazonia-pds/AMAZONIA1/WFI/034/019/AMAZONIA_1_WFI_20230713_034_019_L4/AMAZONIA_1_WFI_20230713_034_019_L4_BAND2.tif&quot;, &quot;type&quot;: &quot;image/tiff; application=geotiff; profile=cloud-optimized&quot;}, &quot;B3&quot;: {&quot;eo:bands&quot;: [{&quot;common_name&quot;: &quot;red&quot;, &quot;name&quot;: &quot;B3&quot;}], &quot;href&quot;: &quot;s3://amazonia-pds/AMAZONIA1/WFI/034/019/AMAZONIA_1_WFI_20230713_034_019_L4/AMAZONIA_1_WFI_20230713_034_019_L4_BAND3.tif&quot;, &quot;type&quot;: &quot;image/tiff; application=geotiff; profile=cloud-optimized&quot;}, &quot;B4&quot;: {&quot;eo:bands&quot;: [{&quot;common_name&quot;: &quot;nir&quot;, &quot;name&quot;: &quot;B4&quot;}], &quot;href&quot;: &quot;s3://amazonia-pds/AMAZONIA1/WFI/034/019/AMAZONIA_1_WFI_20230713_034_019_L4/AMAZONIA_1_WFI_20230713_034_019_L4_BAND4.tif&quot;, &quot;type&quot;: &quot;image/tiff; application=geotiff; profile=cloud-optimized&quot;}, &quot;metadata&quot;: {&quot;href&quot;: &quot;s3://amazonia-pds/AMAZONIA1/WFI/034/019/AMAZONIA_1_WFI_20230713_034_019_L4/AMAZONIA_1_WFI_20230713_034_019_L4_BAND2.xml&quot;, &quot;title&quot;: &quot;INPE original metadata&quot;, &quot;type&quot;: &quot;application/xml&quot;}, &quot;thumbnail&quot;: {&quot;href&quot;: &quot;https://s3.amazonaws.com/amazonia-meta-pds/AMAZONIA1/WFI/034/019/AMAZONIA_1_WFI_20230713_034_019_L4/AMAZONIA_1_WFI_20230713_034_019.png&quot;, &quot;title&quot;: &quot;Thumbnail&quot;, &quot;type&quot;: &quot;image/png&quot;}}, &quot;bbox&quot;: [-50.425793, -27.885943, -40.263442, -19.675523], &quot;collection&quot;: &quot;AMAZONIA1-WFI&quot;, &quot;geometry&quot;: {&quot;coordinates&quot;: [[[[-50.3856, -26.458806], [-41.698013, -27.812981], [-40.255524, -21.004877], [-48.488575, -19.719842], [-50.3856, -26.458806]]]], &quot;type&quot;: &quot;MultiPolygon&quot;}, &quot;id&quot;: &quot;AMAZONIA_1_WFI_20230713_034_019_L4&quot;, &quot;links&quot;: [{&quot;href&quot;: &quot;https://dev.asdi-catalog.org/collections/AMAZONIA1-WFI&quot;, &quot;rel&quot;: &quot;collection&quot;, &quot;type&quot;: &quot;application/json&quot;}, {&quot;href&quot;: &quot;https://dev.asdi-catalog.org/collections/AMAZONIA1-WFI&quot;, &quot;rel&quot;: &quot;parent&quot;, &quot;type&quot;: &quot;application/json&quot;}, {&quot;href&quot;: &quot;https://dev.asdi-catalog.org&quot;, &quot;rel&quot;: &quot;root&quot;, &quot;title&quot;: &quot;ASDI STAC API (dev)&quot;, &quot;type&quot;: &quot;application/json&quot;}, {&quot;href&quot;: &quot;https://dev.asdi-catalog.org/collections/AMAZONIA1-WFI/items/AMAZONIA_1_WFI_20230713_034_019_L4&quot;, &quot;rel&quot;: &quot;self&quot;, &quot;type&quot;: &quot;application/geo+json&quot;}], &quot;properties&quot;: {&quot;amazonia:data_type&quot;: &quot;L4&quot;, &quot;amazonia:path&quot;: 34, &quot;amazonia:row&quot;: 19, &quot;datetime&quot;: &quot;2023-07-13T13:26:38Z&quot;, &quot;gsd&quot;: 64.0, &quot;instruments&quot;: [&quot;WFI&quot;], &quot;platform&quot;: &quot;amazonia-1&quot;, &quot;proj:epsg&quot;: 32723, &quot;sat:orbit_state&quot;: &quot;descending&quot;, &quot;sat:platform_international_designator&quot;: &quot;2021-015A&quot;, &quot;view:off_nadir&quot;: 0.000311361, &quot;view:sun_azimuth&quot;: 28.57975, &quot;view:sun_elevation&quot;: 39.15445}, &quot;stac_extensions&quot;: [&quot;https://stac-extensions.github.io/view/v1.0.0/schema.json&quot;, &quot;https://stac-extensions.github.io/sat/v1.0.0/schema.json&quot;, &quot;https://stac-extensions.github.io/projection/v1.1.0/schema.json&quot;, &quot;https://stac-extensions.github.io/eo/v1.0.0/schema.json&quot;], &quot;stac_version&quot;: &quot;1.0.0&quot;, &quot;type&quot;: &quot;Feature&quot;}, {&quot;assets&quot;: {&quot;B1&quot;: {&quot;eo:bands&quot;: [{&quot;common_name&quot;: &quot;blue&quot;, &quot;name&quot;: &quot;B1&quot;}], &quot;href&quot;: &quot;s3://amazonia-pds/AMAZONIA1/WFI/035/019/AMAZONIA_1_WFI_20230710_035_019_L4/AMAZONIA_1_WFI_20230710_035_019_L4_BAND1.tif&quot;, &quot;type&quot;: &quot;image/tiff; application=geotiff; profile=cloud-optimized&quot;}, &quot;B2&quot;: {&quot;eo:bands&quot;: [{&quot;common_name&quot;: &quot;green&quot;, &quot;name&quot;: &quot;B2&quot;}], &quot;href&quot;: &quot;s3://amazonia-pds/AMAZONIA1/WFI/035/019/AMAZONIA_1_WFI_20230710_035_019_L4/AMAZONIA_1_WFI_20230710_035_019_L4_BAND2.tif&quot;, &quot;type&quot;: &quot;image/tiff; application=geotiff; profile=cloud-optimized&quot;}, &quot;B3&quot;: {&quot;eo:bands&quot;: [{&quot;common_name&quot;: &quot;red&quot;, &quot;name&quot;: &quot;B3&quot;}], &quot;href&quot;: &quot;s3://amazonia-pds/AMAZONIA1/WFI/035/019/AMAZONIA_1_WFI_20230710_035_019_L4/AMAZONIA_1_WFI_20230710_035_019_L4_BAND3.tif&quot;, &quot;type&quot;: &quot;image/tiff; application=geotiff; profile=cloud-optimized&quot;}, &quot;B4&quot;: {&quot;eo:bands&quot;: [{&quot;common_name&quot;: &quot;nir&quot;, &quot;name&quot;: &quot;B4&quot;}], &quot;href&quot;: &quot;s3://amazonia-pds/AMAZONIA1/WFI/035/019/AMAZONIA_1_WFI_20230710_035_019_L4/AMAZONIA_1_WFI_20230710_035_019_L4_BAND4.tif&quot;, &quot;type&quot;: &quot;image/tiff; application=geotiff; profile=cloud-optimized&quot;}, &quot;metadata&quot;: {&quot;href&quot;: &quot;s3://amazonia-pds/AMAZONIA1/WFI/035/019/AMAZONIA_1_WFI_20230710_035_019_L4/AMAZONIA_1_WFI_20230710_035_019_L4_BAND2.xml&quot;, &quot;title&quot;: &quot;INPE original metadata&quot;, &quot;type&quot;: &quot;application/xml&quot;}, &quot;thumbnail&quot;: {&quot;href&quot;: &quot;https://s3.amazonaws.com/amazonia-meta-pds/AMAZONIA1/WFI/035/019/AMAZONIA_1_WFI_20230710_035_019_L4/AMAZONIA_1_WFI_20230710_035_019.png&quot;, &quot;title&quot;: &quot;Thumbnail&quot;, &quot;type&quot;: &quot;image/png&quot;}}, &quot;bbox&quot;: [-55.415096, -27.91799, -45.262401, -19.651261], &quot;collection&quot;: &quot;AMAZONIA1-WFI&quot;, &quot;geometry&quot;: {&quot;coordinates&quot;: [[[[-55.379902, -26.458435], [-46.691465, -27.812299], [-45.249183, -21.004303], [-53.48303, -19.719584], [-55.379902, -26.458435]]]], &quot;type&quot;: &quot;MultiPolygon&quot;}, &quot;id&quot;: &quot;AMAZONIA_1_WFI_20230710_035_019_L4&quot;, &quot;links&quot;: [{&quot;href&quot;: &quot;https://dev.asdi-catalog.org/collections/AMAZONIA1-WFI&quot;, &quot;rel&quot;: &quot;collection&quot;, &quot;type&quot;: &quot;application/json&quot;}, {&quot;href&quot;: &quot;https://dev.asdi-catalog.org/collections/AMAZONIA1-WFI&quot;, &quot;rel&quot;: &quot;parent&quot;, &quot;type&quot;: &quot;application/json&quot;}, {&quot;href&quot;: &quot;https://dev.asdi-catalog.org&quot;, &quot;rel&quot;: &quot;root&quot;, &quot;title&quot;: &quot;ASDI STAC API (dev)&quot;, &quot;type&quot;: &quot;application/json&quot;}, {&quot;href&quot;: &quot;https://dev.asdi-catalog.org/collections/AMAZONIA1-WFI/items/AMAZONIA_1_WFI_20230710_035_019_L4&quot;, &quot;rel&quot;: &quot;self&quot;, &quot;type&quot;: &quot;application/geo+json&quot;}], &quot;properties&quot;: {&quot;amazonia:data_type&quot;: &quot;L4&quot;, &quot;amazonia:path&quot;: 35, &quot;amazonia:row&quot;: 19, &quot;datetime&quot;: &quot;2023-07-10T13:46:37Z&quot;, &quot;gsd&quot;: 64.0, &quot;instruments&quot;: [&quot;WFI&quot;], &quot;platform&quot;: &quot;amazonia-1&quot;, &quot;proj:epsg&quot;: 32722, &quot;sat:orbit_state&quot;: &quot;descending&quot;, &quot;sat:platform_international_designator&quot;: &quot;2021-015A&quot;, &quot;view:off_nadir&quot;: 1.73165e-05, &quot;view:sun_azimuth&quot;: 28.2167, &quot;view:sun_elevation&quot;: 38.85385}, &quot;stac_extensions&quot;: [&quot;https://stac-extensions.github.io/view/v1.0.0/schema.json&quot;, &quot;https://stac-extensions.github.io/sat/v1.0.0/schema.json&quot;, &quot;https://stac-extensions.github.io/projection/v1.1.0/schema.json&quot;, &quot;https://stac-extensions.github.io/eo/v1.0.0/schema.json&quot;], &quot;stac_version&quot;: &quot;1.0.0&quot;, &quot;type&quot;: &quot;Feature&quot;}, {&quot;assets&quot;: {&quot;B1&quot;: {&quot;eo:bands&quot;: [{&quot;common_name&quot;: &quot;blue&quot;, &quot;name&quot;: &quot;B1&quot;}], &quot;href&quot;: &quot;s3://amazonia-pds/AMAZONIA1/WFI/035/019/AMAZONIA_1_WFI_20230705_035_019_L4/AMAZONIA_1_WFI_20230705_035_019_L4_BAND1.tif&quot;, &quot;type&quot;: &quot;image/tiff; application=geotiff; profile=cloud-optimized&quot;}, &quot;B2&quot;: {&quot;eo:bands&quot;: [{&quot;common_name&quot;: &quot;green&quot;, &quot;name&quot;: &quot;B2&quot;}], &quot;href&quot;: &quot;s3://amazonia-pds/AMAZONIA1/WFI/035/019/AMAZONIA_1_WFI_20230705_035_019_L4/AMAZONIA_1_WFI_20230705_035_019_L4_BAND2.tif&quot;, &quot;type&quot;: &quot;image/tiff; application=geotiff; profile=cloud-optimized&quot;}, &quot;B3&quot;: {&quot;eo:bands&quot;: [{&quot;common_name&quot;: &quot;red&quot;, &quot;name&quot;: &quot;B3&quot;}], &quot;href&quot;: &quot;s3://amazonia-pds/AMAZONIA1/WFI/035/019/AMAZONIA_1_WFI_20230705_035_019_L4/AMAZONIA_1_WFI_20230705_035_019_L4_BAND3.tif&quot;, &quot;type&quot;: &quot;image/tiff; application=geotiff; profile=cloud-optimized&quot;}, &quot;B4&quot;: {&quot;eo:bands&quot;: [{&quot;common_name&quot;: &quot;nir&quot;, &quot;name&quot;: &quot;B4&quot;}], &quot;href&quot;: &quot;s3://amazonia-pds/AMAZONIA1/WFI/035/019/AMAZONIA_1_WFI_20230705_035_019_L4/AMAZONIA_1_WFI_20230705_035_019_L4_BAND4.tif&quot;, &quot;type&quot;: &quot;image/tiff; application=geotiff; profile=cloud-optimized&quot;}, &quot;metadata&quot;: {&quot;href&quot;: &quot;s3://amazonia-pds/AMAZONIA1/WFI/035/019/AMAZONIA_1_WFI_20230705_035_019_L4/AMAZONIA_1_WFI_20230705_035_019_L4_BAND2.xml&quot;, &quot;title&quot;: &quot;INPE original metadata&quot;, &quot;type&quot;: &quot;application/xml&quot;}, &quot;thumbnail&quot;: {&quot;href&quot;: &quot;https://s3.amazonaws.com/amazonia-meta-pds/AMAZONIA1/WFI/035/019/AMAZONIA_1_WFI_20230705_035_019_L4/AMAZONIA_1_WFI_20230705_035_019.png&quot;, &quot;title&quot;: &quot;Thumbnail&quot;, &quot;type&quot;: &quot;image/png&quot;}}, &quot;bbox&quot;: [-55.404789, -27.91858, -45.250816, -19.651738], &quot;collection&quot;: &quot;AMAZONIA1-WFI&quot;, &quot;geometry&quot;: {&quot;coordinates&quot;: [[[[-55.36955, -26.458506], [-46.679759, -27.812974], [-45.237465, -21.005189], [-53.47264, -19.719871], [-55.36955, -26.458506]]]], &quot;type&quot;: &quot;MultiPolygon&quot;}, &quot;id&quot;: &quot;AMAZONIA_1_WFI_20230705_035_019_L4&quot;, &quot;links&quot;: [{&quot;href&quot;: &quot;https://dev.asdi-catalog.org/collections/AMAZONIA1-WFI&quot;, &quot;rel&quot;: &quot;collection&quot;, &quot;type&quot;: &quot;application/json&quot;}, {&quot;href&quot;: &quot;https://dev.asdi-catalog.org/collections/AMAZONIA1-WFI&quot;, &quot;rel&quot;: &quot;parent&quot;, &quot;type&quot;: &quot;application/json&quot;}, {&quot;href&quot;: &quot;https://dev.asdi-catalog.org&quot;, &quot;rel&quot;: &quot;root&quot;, &quot;title&quot;: &quot;ASDI STAC API (dev)&quot;, &quot;type&quot;: &quot;application/json&quot;}, {&quot;href&quot;: &quot;https://dev.asdi-catalog.org/collections/AMAZONIA1-WFI/items/AMAZONIA_1_WFI_20230705_035_019_L4&quot;, &quot;rel&quot;: &quot;self&quot;, &quot;type&quot;: &quot;application/geo+json&quot;}], &quot;properties&quot;: {&quot;amazonia:data_type&quot;: &quot;L4&quot;, &quot;amazonia:path&quot;: 35, &quot;amazonia:row&quot;: 19, &quot;datetime&quot;: &quot;2023-07-05T13:46:34Z&quot;, &quot;gsd&quot;: 64.0, &quot;instruments&quot;: [&quot;WFI&quot;], &quot;platform&quot;: &quot;amazonia-1&quot;, &quot;proj:epsg&quot;: 32722, &quot;sat:orbit_state&quot;: &quot;descending&quot;, &quot;sat:platform_international_designator&quot;: &quot;2021-015A&quot;, &quot;view:off_nadir&quot;: 8.05777e-05, &quot;view:sun_azimuth&quot;: 27.6896, &quot;view:sun_elevation&quot;: 38.46505}, &quot;stac_extensions&quot;: [&quot;https://stac-extensions.github.io/view/v1.0.0/schema.json&quot;, &quot;https://stac-extensions.github.io/sat/v1.0.0/schema.json&quot;, &quot;https://stac-extensions.github.io/projection/v1.1.0/schema.json&quot;, &quot;https://stac-extensions.github.io/eo/v1.0.0/schema.json&quot;], &quot;stac_version&quot;: &quot;1.0.0&quot;, &quot;type&quot;: &quot;Feature&quot;}, {&quot;assets&quot;: {&quot;B1&quot;: {&quot;eo:bands&quot;: [{&quot;common_name&quot;: &quot;blue&quot;, &quot;name&quot;: &quot;B1&quot;}], &quot;href&quot;: &quot;s3://amazonia-pds/AMAZONIA1/WFI/034/019/AMAZONIA_1_WFI_20230703_034_019_L4/AMAZONIA_1_WFI_20230703_034_019_L4_LEFT_BAND1.tif&quot;, &quot;type&quot;: &quot;image/tiff; application=geotiff; profile=cloud-optimized&quot;}, &quot;B2&quot;: {&quot;eo:bands&quot;: [{&quot;common_name&quot;: &quot;green&quot;, &quot;name&quot;: &quot;B2&quot;}], &quot;href&quot;: &quot;s3://amazonia-pds/AMAZONIA1/WFI/034/019/AMAZONIA_1_WFI_20230703_034_019_L4/AMAZONIA_1_WFI_20230703_034_019_L4_LEFT_BAND2.tif&quot;, &quot;type&quot;: &quot;image/tiff; application=geotiff; profile=cloud-optimized&quot;}, &quot;B3&quot;: {&quot;eo:bands&quot;: [{&quot;common_name&quot;: &quot;red&quot;, &quot;name&quot;: &quot;B3&quot;}], &quot;href&quot;: &quot;s3://amazonia-pds/AMAZONIA1/WFI/034/019/AMAZONIA_1_WFI_20230703_034_019_L4/AMAZONIA_1_WFI_20230703_034_019_L4_LEFT_BAND3.tif&quot;, &quot;type&quot;: &quot;image/tiff; application=geotiff; profile=cloud-optimized&quot;}, &quot;B4&quot;: {&quot;eo:bands&quot;: [{&quot;common_name&quot;: &quot;nir&quot;, &quot;name&quot;: &quot;B4&quot;}], &quot;href&quot;: &quot;s3://amazonia-pds/AMAZONIA1/WFI/034/019/AMAZONIA_1_WFI_20230703_034_019_L4/AMAZONIA_1_WFI_20230703_034_019_L4_LEFT_BAND4.tif&quot;, &quot;type&quot;: &quot;image/tiff; application=geotiff; profile=cloud-optimized&quot;}, &quot;metadata&quot;: {&quot;href&quot;: &quot;s3://amazonia-pds/AMAZONIA1/WFI/034/019/AMAZONIA_1_WFI_20230703_034_019_L4/AMAZONIA_1_WFI_20230703_034_019_L4_LEFT_BAND2.xml&quot;, &quot;title&quot;: &quot;INPE original metadata&quot;, &quot;type&quot;: &quot;application/xml&quot;}, &quot;thumbnail&quot;: {&quot;href&quot;: &quot;https://s3.amazonaws.com/amazonia-meta-pds/AMAZONIA1/WFI/034/019/AMAZONIA_1_WFI_20230703_034_019_L4/AMAZONIA_1_WFI_20230703_034_019.png&quot;, &quot;title&quot;: &quot;Thumbnail&quot;, &quot;type&quot;: &quot;image/png&quot;}}, &quot;bbox&quot;: [-50.405187, -27.155608, -44.238627, -19.674277], &quot;collection&quot;: &quot;AMAZONIA1-WFI&quot;, &quot;geometry&quot;: {&quot;coordinates&quot;: [[[[-50.364938, -26.458022], [-45.919126, -27.223896], [-44.246631, -20.431177], [-48.467936, -19.719488], [-50.364938, -26.458022]]]], &quot;type&quot;: &quot;MultiPolygon&quot;}, &quot;id&quot;: &quot;AMAZONIA_1_WFI_20230703_034_019_L4&quot;, &quot;links&quot;: [{&quot;href&quot;: &quot;https://dev.asdi-catalog.org/collections/AMAZONIA1-WFI&quot;, &quot;rel&quot;: &quot;collection&quot;, &quot;type&quot;: &quot;application/json&quot;}, {&quot;href&quot;: &quot;https://dev.asdi-catalog.org/collections/AMAZONIA1-WFI&quot;, &quot;rel&quot;: &quot;parent&quot;, &quot;type&quot;: &quot;application/json&quot;}, {&quot;href&quot;: &quot;https://dev.asdi-catalog.org&quot;, &quot;rel&quot;: &quot;root&quot;, &quot;title&quot;: &quot;ASDI STAC API (dev)&quot;, &quot;type&quot;: &quot;application/json&quot;}, {&quot;href&quot;: &quot;https://dev.asdi-catalog.org/collections/AMAZONIA1-WFI/items/AMAZONIA_1_WFI_20230703_034_019_L4&quot;, &quot;rel&quot;: &quot;self&quot;, &quot;type&quot;: &quot;application/geo+json&quot;}], &quot;properties&quot;: {&quot;amazonia:data_type&quot;: &quot;L4&quot;, &quot;amazonia:path&quot;: 34, &quot;amazonia:row&quot;: 19, &quot;datetime&quot;: &quot;2023-07-03T13:26:32Z&quot;, &quot;gsd&quot;: 64.0, &quot;instruments&quot;: [&quot;WFI&quot;], &quot;platform&quot;: &quot;amazonia-1&quot;, &quot;proj:epsg&quot;: 32723, &quot;sat:orbit_state&quot;: &quot;descending&quot;, &quot;sat:platform_international_designator&quot;: &quot;2021-015A&quot;, &quot;view:off_nadir&quot;: 0.000116982, &quot;view:sun_azimuth&quot;: 29.7357, &quot;view:sun_elevation&quot;: 37.8095}, &quot;stac_extensions&quot;: [&quot;https://stac-extensions.github.io/view/v1.0.0/schema.json&quot;, &quot;https://stac-extensions.github.io/sat/v1.0.0/schema.json&quot;, &quot;https://stac-extensions.github.io/projection/v1.1.0/schema.json&quot;, &quot;https://stac-extensions.github.io/eo/v1.0.0/schema.json&quot;], &quot;stac_version&quot;: &quot;1.0.0&quot;, &quot;type&quot;: &quot;Feature&quot;}, {&quot;assets&quot;: {&quot;B1&quot;: {&quot;eo:bands&quot;: [{&quot;common_name&quot;: &quot;blue&quot;, &quot;name&quot;: &quot;B1&quot;}], &quot;href&quot;: &quot;s3://amazonia-pds/AMAZONIA1/WFI/035/019/AMAZONIA_1_WFI_20230630_035_019_L4/AMAZONIA_1_WFI_20230630_035_019_L4_BAND1.tif&quot;, &quot;type&quot;: &quot;image/tiff; application=geotiff; profile=cloud-optimized&quot;}, &quot;B2&quot;: {&quot;eo:bands&quot;: [{&quot;common_name&quot;: &quot;green&quot;, &quot;name&quot;: &quot;B2&quot;}], &quot;href&quot;: &quot;s3://amazonia-pds/AMAZONIA1/WFI/035/019/AMAZONIA_1_WFI_20230630_035_019_L4/AMAZONIA_1_WFI_20230630_035_019_L4_BAND2.tif&quot;, &quot;type&quot;: &quot;image/tiff; application=geotiff; profile=cloud-optimized&quot;}, &quot;B3&quot;: {&quot;eo:bands&quot;: [{&quot;common_name&quot;: &quot;red&quot;, &quot;name&quot;: &quot;B3&quot;}], &quot;href&quot;: &quot;s3://amazonia-pds/AMAZONIA1/WFI/035/019/AMAZONIA_1_WFI_20230630_035_019_L4/AMAZONIA_1_WFI_20230630_035_019_L4_BAND3.tif&quot;, &quot;type&quot;: &quot;image/tiff; application=geotiff; profile=cloud-optimized&quot;}, &quot;B4&quot;: {&quot;eo:bands&quot;: [{&quot;common_name&quot;: &quot;nir&quot;, &quot;name&quot;: &quot;B4&quot;}], &quot;href&quot;: &quot;s3://amazonia-pds/AMAZONIA1/WFI/035/019/AMAZONIA_1_WFI_20230630_035_019_L4/AMAZONIA_1_WFI_20230630_035_019_L4_BAND4.tif&quot;, &quot;type&quot;: &quot;image/tiff; application=geotiff; profile=cloud-optimized&quot;}, &quot;metadata&quot;: {&quot;href&quot;: &quot;s3://amazonia-pds/AMAZONIA1/WFI/035/019/AMAZONIA_1_WFI_20230630_035_019_L4/AMAZONIA_1_WFI_20230630_035_019_L4_BAND2.xml&quot;, &quot;title&quot;: &quot;INPE original metadata&quot;, &quot;type&quot;: &quot;application/xml&quot;}, &quot;thumbnail&quot;: {&quot;href&quot;: &quot;https://s3.amazonaws.com/amazonia-meta-pds/AMAZONIA1/WFI/035/019/AMAZONIA_1_WFI_20230630_035_019_L4/AMAZONIA_1_WFI_20230630_035_019.png&quot;, &quot;title&quot;: &quot;Thumbnail&quot;, &quot;type&quot;: &quot;image/png&quot;}}, &quot;bbox&quot;: [-55.391237, -27.918594, -45.235574, -19.651017], &quot;collection&quot;: &quot;AMAZONIA1-WFI&quot;, &quot;geometry&quot;: {&quot;coordinates&quot;: [[[[-55.35564, -26.457914], [-46.664582, -27.812399], [-45.222258, -21.004856], [-53.458658, -19.719534], [-55.35564, -26.457914]]]], &quot;type&quot;: &quot;MultiPolygon&quot;}, &quot;id&quot;: &quot;AMAZONIA_1_WFI_20230630_035_019_L4&quot;, &quot;links&quot;: [{&quot;href&quot;: &quot;https://dev.asdi-catalog.org/collections/AMAZONIA1-WFI&quot;, &quot;rel&quot;: &quot;collection&quot;, &quot;type&quot;: &quot;application/json&quot;}, {&quot;href&quot;: &quot;https://dev.asdi-catalog.org/collections/AMAZONIA1-WFI&quot;, &quot;rel&quot;: &quot;parent&quot;, &quot;type&quot;: &quot;application/json&quot;}, {&quot;href&quot;: &quot;https://dev.asdi-catalog.org&quot;, &quot;rel&quot;: &quot;root&quot;, &quot;title&quot;: &quot;ASDI STAC API (dev)&quot;, &quot;type&quot;: &quot;application/json&quot;}, {&quot;href&quot;: &quot;https://dev.asdi-catalog.org/collections/AMAZONIA1-WFI/items/AMAZONIA_1_WFI_20230630_035_019_L4&quot;, &quot;rel&quot;: &quot;self&quot;, &quot;type&quot;: &quot;application/geo+json&quot;}], &quot;properties&quot;: {&quot;amazonia:data_type&quot;: &quot;L4&quot;, &quot;amazonia:path&quot;: 35, &quot;amazonia:row&quot;: 19, &quot;datetime&quot;: &quot;2023-06-30T13:46:30Z&quot;, &quot;gsd&quot;: 64.0, &quot;instruments&quot;: [&quot;WFI&quot;], &quot;platform&quot;: &quot;amazonia-1&quot;, &quot;proj:epsg&quot;: 32722, &quot;sat:orbit_state&quot;: &quot;descending&quot;, &quot;sat:platform_international_designator&quot;: &quot;2021-015A&quot;, &quot;view:off_nadir&quot;: 7.1519e-06, &quot;view:sun_azimuth&quot;: 27.23145, &quot;view:sun_elevation&quot;: 38.23435}, &quot;stac_extensions&quot;: [&quot;https://stac-extensions.github.io/view/v1.0.0/schema.json&quot;, &quot;https://stac-extensions.github.io/sat/v1.0.0/schema.json&quot;, &quot;https://stac-extensions.github.io/projection/v1.1.0/schema.json&quot;, &quot;https://stac-extensions.github.io/eo/v1.0.0/schema.json&quot;], &quot;stac_version&quot;: &quot;1.0.0&quot;, &quot;type&quot;: &quot;Feature&quot;}, {&quot;assets&quot;: {&quot;B1&quot;: {&quot;eo:bands&quot;: [{&quot;common_name&quot;: &quot;blue&quot;, &quot;name&quot;: &quot;B1&quot;}], &quot;href&quot;: &quot;s3://amazonia-pds/AMAZONIA1/WFI/034/019/AMAZONIA_1_WFI_20230628_034_019_L4/AMAZONIA_1_WFI_20230628_034_019_L4_BAND1.tif&quot;, &quot;type&quot;: &quot;image/tiff; application=geotiff; profile=cloud-optimized&quot;}, &quot;B2&quot;: {&quot;eo:bands&quot;: [{&quot;common_name&quot;: &quot;green&quot;, &quot;name&quot;: &quot;B2&quot;}], &quot;href&quot;: &quot;s3://amazonia-pds/AMAZONIA1/WFI/034/019/AMAZONIA_1_WFI_20230628_034_019_L4/AMAZONIA_1_WFI_20230628_034_019_L4_BAND2.tif&quot;, &quot;type&quot;: &quot;image/tiff; application=geotiff; profile=cloud-optimized&quot;}, &quot;B3&quot;: {&quot;eo:bands&quot;: [{&quot;common_name&quot;: &quot;red&quot;, &quot;name&quot;: &quot;B3&quot;}], &quot;href&quot;: &quot;s3://amazonia-pds/AMAZONIA1/WFI/034/019/AMAZONIA_1_WFI_20230628_034_019_L4/AMAZONIA_1_WFI_20230628_034_019_L4_BAND3.tif&quot;, &quot;type&quot;: &quot;image/tiff; application=geotiff; profile=cloud-optimized&quot;}, &quot;B4&quot;: {&quot;eo:bands&quot;: [{&quot;common_name&quot;: &quot;nir&quot;, &quot;name&quot;: &quot;B4&quot;}], &quot;href&quot;: &quot;s3://amazonia-pds/AMAZONIA1/WFI/034/019/AMAZONIA_1_WFI_20230628_034_019_L4/AMAZONIA_1_WFI_20230628_034_019_L4_BAND4.tif&quot;, &quot;type&quot;: &quot;image/tiff; application=geotiff; profile=cloud-optimized&quot;}, &quot;metadata&quot;: {&quot;href&quot;: &quot;s3://amazonia-pds/AMAZONIA1/WFI/034/019/AMAZONIA_1_WFI_20230628_034_019_L4/AMAZONIA_1_WFI_20230628_034_019_L4_BAND2.xml&quot;, &quot;title&quot;: &quot;INPE original metadata&quot;, &quot;type&quot;: &quot;application/xml&quot;}, &quot;thumbnail&quot;: {&quot;href&quot;: &quot;https://s3.amazonaws.com/amazonia-meta-pds/AMAZONIA1/WFI/034/019/AMAZONIA_1_WFI_20230628_034_019_L4/AMAZONIA_1_WFI_20230628_034_019.png&quot;, &quot;title&quot;: &quot;Thumbnail&quot;, &quot;type&quot;: &quot;image/png&quot;}}, &quot;bbox&quot;: [-50.388467, -27.886847, -40.223131, -19.674204], &quot;collection&quot;: &quot;AMAZONIA1-WFI&quot;, &quot;geometry&quot;: {&quot;coordinates&quot;: [[[[-50.348652, -26.458206], [-41.657193, -27.81281], [-40.214909, -21.005348], [-48.451722, -19.719899], [-50.348652, -26.458206]]]], &quot;type&quot;: &quot;MultiPolygon&quot;}, &quot;id&quot;: &quot;AMAZONIA_1_WFI_20230628_034_019_L4&quot;, &quot;links&quot;: [{&quot;href&quot;: &quot;https://dev.asdi-catalog.org/collections/AMAZONIA1-WFI&quot;, &quot;rel&quot;: &quot;collection&quot;, &quot;type&quot;: &quot;application/json&quot;}, {&quot;href&quot;: &quot;https://dev.asdi-catalog.org/collections/AMAZONIA1-WFI&quot;, &quot;rel&quot;: &quot;parent&quot;, &quot;type&quot;: &quot;application/json&quot;}, {&quot;href&quot;: &quot;https://dev.asdi-catalog.org&quot;, &quot;rel&quot;: &quot;root&quot;, &quot;title&quot;: &quot;ASDI STAC API (dev)&quot;, &quot;type&quot;: &quot;application/json&quot;}, {&quot;href&quot;: &quot;https://dev.asdi-catalog.org/collections/AMAZONIA1-WFI/items/AMAZONIA_1_WFI_20230628_034_019_L4&quot;, &quot;rel&quot;: &quot;self&quot;, &quot;type&quot;: &quot;application/geo+json&quot;}], &quot;properties&quot;: {&quot;amazonia:data_type&quot;: &quot;L4&quot;, &quot;amazonia:path&quot;: 34, &quot;amazonia:row&quot;: 19, &quot;datetime&quot;: &quot;2023-06-28T13:26:29Z&quot;, &quot;gsd&quot;: 64.0, &quot;instruments&quot;: [&quot;WFI&quot;], &quot;platform&quot;: &quot;amazonia-1&quot;, &quot;proj:epsg&quot;: 32723, &quot;sat:orbit_state&quot;: &quot;descending&quot;, &quot;sat:platform_international_designator&quot;: &quot;2021-015A&quot;, &quot;view:off_nadir&quot;: 0.000224307, &quot;view:sun_azimuth&quot;: 27.07885, &quot;view:sun_elevation&quot;: 38.1819}, &quot;stac_extensions&quot;: [&quot;https://stac-extensions.github.io/view/v1.0.0/schema.json&quot;, &quot;https://stac-extensions.github.io/sat/v1.0.0/schema.json&quot;, &quot;https://stac-extensions.github.io/projection/v1.1.0/schema.json&quot;, &quot;https://stac-extensions.github.io/eo/v1.0.0/schema.json&quot;], &quot;stac_version&quot;: &quot;1.0.0&quot;, &quot;type&quot;: &quot;Feature&quot;}, {&quot;assets&quot;: {&quot;B1&quot;: {&quot;eo:bands&quot;: [{&quot;common_name&quot;: &quot;blue&quot;, &quot;name&quot;: &quot;B1&quot;}], &quot;href&quot;: &quot;s3://amazonia-pds/AMAZONIA1/WFI/035/019/AMAZONIA_1_WFI_20230625_035_019_L4/AMAZONIA_1_WFI_20230625_035_019_L4_BAND1.tif&quot;, &quot;type&quot;: &quot;image/tiff; application=geotiff; profile=cloud-optimized&quot;}, &quot;B2&quot;: {&quot;eo:bands&quot;: [{&quot;common_name&quot;: &quot;green&quot;, &quot;name&quot;: &quot;B2&quot;}], &quot;href&quot;: &quot;s3://amazonia-pds/AMAZONIA1/WFI/035/019/AMAZONIA_1_WFI_20230625_035_019_L4/AMAZONIA_1_WFI_20230625_035_019_L4_BAND2.tif&quot;, &quot;type&quot;: &quot;image/tiff; application=geotiff; profile=cloud-optimized&quot;}, &quot;B3&quot;: {&quot;eo:bands&quot;: [{&quot;common_name&quot;: &quot;red&quot;, &quot;name&quot;: &quot;B3&quot;}], &quot;href&quot;: &quot;s3://amazonia-pds/AMAZONIA1/WFI/035/019/AMAZONIA_1_WFI_20230625_035_019_L4/AMAZONIA_1_WFI_20230625_035_019_L4_BAND3.tif&quot;, &quot;type&quot;: &quot;image/tiff; application=geotiff; profile=cloud-optimized&quot;}, &quot;B4&quot;: {&quot;eo:bands&quot;: [{&quot;common_name&quot;: &quot;nir&quot;, &quot;name&quot;: &quot;B4&quot;}], &quot;href&quot;: &quot;s3://amazonia-pds/AMAZONIA1/WFI/035/019/AMAZONIA_1_WFI_20230625_035_019_L4/AMAZONIA_1_WFI_20230625_035_019_L4_BAND4.tif&quot;, &quot;type&quot;: &quot;image/tiff; application=geotiff; profile=cloud-optimized&quot;}, &quot;metadata&quot;: {&quot;href&quot;: &quot;s3://amazonia-pds/AMAZONIA1/WFI/035/019/AMAZONIA_1_WFI_20230625_035_019_L4/AMAZONIA_1_WFI_20230625_035_019_L4_BAND2.xml&quot;, &quot;title&quot;: &quot;INPE original metadata&quot;, &quot;type&quot;: &quot;application/xml&quot;}, &quot;thumbnail&quot;: {&quot;href&quot;: &quot;https://s3.amazonaws.com/amazonia-meta-pds/AMAZONIA1/WFI/035/019/AMAZONIA_1_WFI_20230625_035_019_L4/AMAZONIA_1_WFI_20230625_035_019.png&quot;, &quot;title&quot;: &quot;Thumbnail&quot;, &quot;type&quot;: &quot;image/png&quot;}}, &quot;bbox&quot;: [-55.371932, -27.919768, -45.215433, -19.650824], &quot;collection&quot;: &quot;AMAZONIA1-WFI&quot;, &quot;geometry&quot;: {&quot;coordinates&quot;: [[[[-55.336643, -26.458031], [-46.644224, -27.812824], [-45.202135, -21.005465], [-53.43983, -19.719834], [-55.336643, -26.458031]]]], &quot;type&quot;: &quot;MultiPolygon&quot;}, &quot;id&quot;: &quot;AMAZONIA_1_WFI_20230625_035_019_L4&quot;, &quot;links&quot;: [{&quot;href&quot;: &quot;https://dev.asdi-catalog.org/collections/AMAZONIA1-WFI&quot;, &quot;rel&quot;: &quot;collection&quot;, &quot;type&quot;: &quot;application/json&quot;}, {&quot;href&quot;: &quot;https://dev.asdi-catalog.org/collections/AMAZONIA1-WFI&quot;, &quot;rel&quot;: &quot;parent&quot;, &quot;type&quot;: &quot;application/json&quot;}, {&quot;href&quot;: &quot;https://dev.asdi-catalog.org&quot;, &quot;rel&quot;: &quot;root&quot;, &quot;title&quot;: &quot;ASDI STAC API (dev)&quot;, &quot;type&quot;: &quot;application/json&quot;}, {&quot;href&quot;: &quot;https://dev.asdi-catalog.org/collections/AMAZONIA1-WFI/items/AMAZONIA_1_WFI_20230625_035_019_L4&quot;, &quot;rel&quot;: &quot;self&quot;, &quot;type&quot;: &quot;application/geo+json&quot;}], &quot;properties&quot;: {&quot;amazonia:data_type&quot;: &quot;L4&quot;, &quot;amazonia:path&quot;: 35, &quot;amazonia:row&quot;: 19, &quot;datetime&quot;: &quot;2023-06-25T13:46:26Z&quot;, &quot;gsd&quot;: 64.0, &quot;instruments&quot;: [&quot;WFI&quot;], &quot;platform&quot;: &quot;amazonia-1&quot;, &quot;proj:epsg&quot;: 32722, &quot;sat:orbit_state&quot;: &quot;descending&quot;, &quot;sat:platform_international_designator&quot;: &quot;2021-015A&quot;, &quot;view:off_nadir&quot;: 2.47568e-05, &quot;view:sun_azimuth&quot;: 26.843249999999998, &quot;view:sun_elevation&quot;: 38.1636}, &quot;stac_extensions&quot;: [&quot;https://stac-extensions.github.io/view/v1.0.0/schema.json&quot;, &quot;https://stac-extensions.github.io/sat/v1.0.0/schema.json&quot;, &quot;https://stac-extensions.github.io/projection/v1.1.0/schema.json&quot;, &quot;https://stac-extensions.github.io/eo/v1.0.0/schema.json&quot;], &quot;stac_version&quot;: &quot;1.0.0&quot;, &quot;type&quot;: &quot;Feature&quot;}, {&quot;assets&quot;: {&quot;B1&quot;: {&quot;eo:bands&quot;: [{&quot;common_name&quot;: &quot;blue&quot;, &quot;name&quot;: &quot;B1&quot;}], &quot;href&quot;: &quot;s3://amazonia-pds/AMAZONIA1/WFI/034/019/AMAZONIA_1_WFI_20230623_034_019_L4/AMAZONIA_1_WFI_20230623_034_019_L4_BAND1.tif&quot;, &quot;type&quot;: &quot;image/tiff; application=geotiff; profile=cloud-optimized&quot;}, &quot;B2&quot;: {&quot;eo:bands&quot;: [{&quot;common_name&quot;: &quot;green&quot;, &quot;name&quot;: &quot;B2&quot;}], &quot;href&quot;: &quot;s3://amazonia-pds/AMAZONIA1/WFI/034/019/AMAZONIA_1_WFI_20230623_034_019_L4/AMAZONIA_1_WFI_20230623_034_019_L4_BAND2.tif&quot;, &quot;type&quot;: &quot;image/tiff; application=geotiff; profile=cloud-optimized&quot;}, &quot;B3&quot;: {&quot;eo:bands&quot;: [{&quot;common_name&quot;: &quot;red&quot;, &quot;name&quot;: &quot;B3&quot;}], &quot;href&quot;: &quot;s3://amazonia-pds/AMAZONIA1/WFI/034/019/AMAZONIA_1_WFI_20230623_034_019_L4/AMAZONIA_1_WFI_20230623_034_019_L4_BAND3.tif&quot;, &quot;type&quot;: &quot;image/tiff; application=geotiff; profile=cloud-optimized&quot;}, &quot;B4&quot;: {&quot;eo:bands&quot;: [{&quot;common_name&quot;: &quot;nir&quot;, &quot;name&quot;: &quot;B4&quot;}], &quot;href&quot;: &quot;s3://amazonia-pds/AMAZONIA1/WFI/034/019/AMAZONIA_1_WFI_20230623_034_019_L4/AMAZONIA_1_WFI_20230623_034_019_L4_BAND4.tif&quot;, &quot;type&quot;: &quot;image/tiff; application=geotiff; profile=cloud-optimized&quot;}, &quot;metadata&quot;: {&quot;href&quot;: &quot;s3://amazonia-pds/AMAZONIA1/WFI/034/019/AMAZONIA_1_WFI_20230623_034_019_L4/AMAZONIA_1_WFI_20230623_034_019_L4_BAND2.xml&quot;, &quot;title&quot;: &quot;INPE original metadata&quot;, &quot;type&quot;: &quot;application/xml&quot;}, &quot;thumbnail&quot;: {&quot;href&quot;: &quot;https://s3.amazonaws.com/amazonia-meta-pds/AMAZONIA1/WFI/034/019/AMAZONIA_1_WFI_20230623_034_019_L4/AMAZONIA_1_WFI_20230623_034_019.png&quot;, &quot;title&quot;: &quot;Thumbnail&quot;, &quot;type&quot;: &quot;image/png&quot;}}, &quot;bbox&quot;: [-50.36853, -27.887594, -40.201737, -19.674113], &quot;collection&quot;: &quot;AMAZONIA1-WFI&quot;, &quot;geometry&quot;: {&quot;coordinates&quot;: [[[[-50.328335, -26.457876], [-41.635667, -27.812699], [-40.193527, -21.005428], [-48.431471, -19.719773], [-50.328335, -26.457876]]]], &quot;type&quot;: &quot;MultiPolygon&quot;}, &quot;id&quot;: &quot;AMAZONIA_1_WFI_20230623_034_019_L4&quot;, &quot;links&quot;: [{&quot;href&quot;: &quot;https://dev.asdi-catalog.org/collections/AMAZONIA1-WFI&quot;, &quot;rel&quot;: &quot;collection&quot;, &quot;type&quot;: &quot;application/json&quot;}, {&quot;href&quot;: &quot;https://dev.asdi-catalog.org/collections/AMAZONIA1-WFI&quot;, &quot;rel&quot;: &quot;parent&quot;, &quot;type&quot;: &quot;application/json&quot;}, {&quot;href&quot;: &quot;https://dev.asdi-catalog.org&quot;, &quot;rel&quot;: &quot;root&quot;, &quot;title&quot;: &quot;ASDI STAC API (dev)&quot;, &quot;type&quot;: &quot;application/json&quot;}, {&quot;href&quot;: &quot;https://dev.asdi-catalog.org/collections/AMAZONIA1-WFI/items/AMAZONIA_1_WFI_20230623_034_019_L4&quot;, &quot;rel&quot;: &quot;self&quot;, &quot;type&quot;: &quot;application/geo+json&quot;}], &quot;properties&quot;: {&quot;amazonia:data_type&quot;: &quot;L4&quot;, &quot;amazonia:path&quot;: 34, &quot;amazonia:row&quot;: 19, &quot;datetime&quot;: &quot;2023-06-23T13:26:24Z&quot;, &quot;gsd&quot;: 64.0, &quot;instruments&quot;: [&quot;WFI&quot;], &quot;platform&quot;: &quot;amazonia-1&quot;, &quot;proj:epsg&quot;: 32723, &quot;sat:orbit_state&quot;: &quot;descending&quot;, &quot;sat:platform_international_designator&quot;: &quot;2021-015A&quot;, &quot;view:off_nadir&quot;: 8.41695e-05, &quot;view:sun_azimuth&quot;: 26.726300000000002, &quot;view:sun_elevation&quot;: 38.17335}, &quot;stac_extensions&quot;: [&quot;https://stac-extensions.github.io/view/v1.0.0/schema.json&quot;, &quot;https://stac-extensions.github.io/sat/v1.0.0/schema.json&quot;, &quot;https://stac-extensions.github.io/projection/v1.1.0/schema.json&quot;, &quot;https://stac-extensions.github.io/eo/v1.0.0/schema.json&quot;], &quot;stac_version&quot;: &quot;1.0.0&quot;, &quot;type&quot;: &quot;Feature&quot;}, {&quot;assets&quot;: {&quot;B1&quot;: {&quot;eo:bands&quot;: [{&quot;common_name&quot;: &quot;blue&quot;, &quot;name&quot;: &quot;B1&quot;}], &quot;href&quot;: &quot;s3://amazonia-pds/AMAZONIA1/WFI/035/019/AMAZONIA_1_WFI_20230620_035_019_L4/AMAZONIA_1_WFI_20230620_035_019_L4_BAND1.tif&quot;, &quot;type&quot;: &quot;image/tiff; application=geotiff; profile=cloud-optimized&quot;}, &quot;B2&quot;: {&quot;eo:bands&quot;: [{&quot;common_name&quot;: &quot;green&quot;, &quot;name&quot;: &quot;B2&quot;}], &quot;href&quot;: &quot;s3://amazonia-pds/AMAZONIA1/WFI/035/019/AMAZONIA_1_WFI_20230620_035_019_L4/AMAZONIA_1_WFI_20230620_035_019_L4_BAND2.tif&quot;, &quot;type&quot;: &quot;image/tiff; application=geotiff; profile=cloud-optimized&quot;}, &quot;B3&quot;: {&quot;eo:bands&quot;: [{&quot;common_name&quot;: &quot;red&quot;, &quot;name&quot;: &quot;B3&quot;}], &quot;href&quot;: &quot;s3://amazonia-pds/AMAZONIA1/WFI/035/019/AMAZONIA_1_WFI_20230620_035_019_L4/AMAZONIA_1_WFI_20230620_035_019_L4_BAND3.tif&quot;, &quot;type&quot;: &quot;image/tiff; application=geotiff; profile=cloud-optimized&quot;}, &quot;B4&quot;: {&quot;eo:bands&quot;: [{&quot;common_name&quot;: &quot;nir&quot;, &quot;name&quot;: &quot;B4&quot;}], &quot;href&quot;: &quot;s3://amazonia-pds/AMAZONIA1/WFI/035/019/AMAZONIA_1_WFI_20230620_035_019_L4/AMAZONIA_1_WFI_20230620_035_019_L4_BAND4.tif&quot;, &quot;type&quot;: &quot;image/tiff; application=geotiff; profile=cloud-optimized&quot;}, &quot;metadata&quot;: {&quot;href&quot;: &quot;s3://amazonia-pds/AMAZONIA1/WFI/035/019/AMAZONIA_1_WFI_20230620_035_019_L4/AMAZONIA_1_WFI_20230620_035_019_L4_BAND2.xml&quot;, &quot;title&quot;: &quot;INPE original metadata&quot;, &quot;type&quot;: &quot;application/xml&quot;}, &quot;thumbnail&quot;: {&quot;href&quot;: &quot;https://s3.amazonaws.com/amazonia-meta-pds/AMAZONIA1/WFI/035/019/AMAZONIA_1_WFI_20230620_035_019_L4/AMAZONIA_1_WFI_20230620_035_019.png&quot;, &quot;title&quot;: &quot;Thumbnail&quot;, &quot;type&quot;: &quot;image/png&quot;}}, &quot;bbox&quot;: [-55.349405, -27.921518, -45.192224, -19.651176], &quot;collection&quot;: &quot;AMAZONIA1-WFI&quot;, &quot;geometry&quot;: {&quot;coordinates&quot;: [[[[-55.314559, -26.458687], [-46.620755, -27.813699], [-45.178653, -21.006557], [-53.417598, -19.720737], [-55.314559, -26.458687]]]], &quot;type&quot;: &quot;MultiPolygon&quot;}, &quot;id&quot;: &quot;AMAZONIA_1_WFI_20230620_035_019_L4&quot;, &quot;links&quot;: [{&quot;href&quot;: &quot;https://dev.asdi-catalog.org/collections/AMAZONIA1-WFI&quot;, &quot;rel&quot;: &quot;collection&quot;, &quot;type&quot;: &quot;application/json&quot;}, {&quot;href&quot;: &quot;https://dev.asdi-catalog.org/collections/AMAZONIA1-WFI&quot;, &quot;rel&quot;: &quot;parent&quot;, &quot;type&quot;: &quot;application/json&quot;}, {&quot;href&quot;: &quot;https://dev.asdi-catalog.org&quot;, &quot;rel&quot;: &quot;root&quot;, &quot;title&quot;: &quot;ASDI STAC API (dev)&quot;, &quot;type&quot;: &quot;application/json&quot;}, {&quot;href&quot;: &quot;https://dev.asdi-catalog.org/collections/AMAZONIA1-WFI/items/AMAZONIA_1_WFI_20230620_035_019_L4&quot;, &quot;rel&quot;: &quot;self&quot;, &quot;type&quot;: &quot;application/geo+json&quot;}], &quot;properties&quot;: {&quot;amazonia:data_type&quot;: &quot;L4&quot;, &quot;amazonia:path&quot;: 35, &quot;amazonia:row&quot;: 19, &quot;datetime&quot;: &quot;2023-06-20T13:46:20Z&quot;, &quot;gsd&quot;: 64.0, &quot;instruments&quot;: [&quot;WFI&quot;], &quot;platform&quot;: &quot;amazonia-1&quot;, &quot;proj:epsg&quot;: 32722, &quot;sat:orbit_state&quot;: &quot;descending&quot;, &quot;sat:platform_international_designator&quot;: &quot;2021-015A&quot;, &quot;view:off_nadir&quot;: 9.65945e-05, &quot;view:sun_azimuth&quot;: 26.5445, &quot;view:sun_elevation&quot;: 38.24705}, &quot;stac_extensions&quot;: [&quot;https://stac-extensions.github.io/view/v1.0.0/schema.json&quot;, &quot;https://stac-extensions.github.io/sat/v1.0.0/schema.json&quot;, &quot;https://stac-extensions.github.io/projection/v1.1.0/schema.json&quot;, &quot;https://stac-extensions.github.io/eo/v1.0.0/schema.json&quot;], &quot;stac_version&quot;: &quot;1.0.0&quot;, &quot;type&quot;: &quot;Feature&quot;}, {&quot;assets&quot;: {&quot;B1&quot;: {&quot;eo:bands&quot;: [{&quot;common_name&quot;: &quot;blue&quot;, &quot;name&quot;: &quot;B1&quot;}], &quot;href&quot;: &quot;s3://amazonia-pds/AMAZONIA1/WFI/034/019/AMAZONIA_1_WFI_20230618_034_019_L4/AMAZONIA_1_WFI_20230618_034_019_L4_BAND1.tif&quot;, &quot;type&quot;: &quot;image/tiff; application=geotiff; profile=cloud-optimized&quot;}, &quot;B2&quot;: {&quot;eo:bands&quot;: [{&quot;common_name&quot;: &quot;green&quot;, &quot;name&quot;: &quot;B2&quot;}], &quot;href&quot;: &quot;s3://amazonia-pds/AMAZONIA1/WFI/034/019/AMAZONIA_1_WFI_20230618_034_019_L4/AMAZONIA_1_WFI_20230618_034_019_L4_BAND2.tif&quot;, &quot;type&quot;: &quot;image/tiff; application=geotiff; profile=cloud-optimized&quot;}, &quot;B3&quot;: {&quot;eo:bands&quot;: [{&quot;common_name&quot;: &quot;red&quot;, &quot;name&quot;: &quot;B3&quot;}], &quot;href&quot;: &quot;s3://amazonia-pds/AMAZONIA1/WFI/034/019/AMAZONIA_1_WFI_20230618_034_019_L4/AMAZONIA_1_WFI_20230618_034_019_L4_BAND3.tif&quot;, &quot;type&quot;: &quot;image/tiff; application=geotiff; profile=cloud-optimized&quot;}, &quot;B4&quot;: {&quot;eo:bands&quot;: [{&quot;common_name&quot;: &quot;nir&quot;, &quot;name&quot;: &quot;B4&quot;}], &quot;href&quot;: &quot;s3://amazonia-pds/AMAZONIA1/WFI/034/019/AMAZONIA_1_WFI_20230618_034_019_L4/AMAZONIA_1_WFI_20230618_034_019_L4_BAND4.tif&quot;, &quot;type&quot;: &quot;image/tiff; application=geotiff; profile=cloud-optimized&quot;}, &quot;metadata&quot;: {&quot;href&quot;: &quot;s3://amazonia-pds/AMAZONIA1/WFI/034/019/AMAZONIA_1_WFI_20230618_034_019_L4/AMAZONIA_1_WFI_20230618_034_019_L4_BAND2.xml&quot;, &quot;title&quot;: &quot;INPE original metadata&quot;, &quot;type&quot;: &quot;application/xml&quot;}, &quot;thumbnail&quot;: {&quot;href&quot;: &quot;https://s3.amazonaws.com/amazonia-meta-pds/AMAZONIA1/WFI/034/019/AMAZONIA_1_WFI_20230618_034_019_L4/AMAZONIA_1_WFI_20230618_034_019.png&quot;, &quot;title&quot;: &quot;Thumbnail&quot;, &quot;type&quot;: &quot;image/png&quot;}}, &quot;bbox&quot;: [-50.344063, -27.888374, -40.176087, -19.672843], &quot;collection&quot;: &quot;AMAZONIA1-WFI&quot;, &quot;geometry&quot;: {&quot;coordinates&quot;: [[[[-50.304001, -26.457481], [-41.610129, -27.812842], [-40.167935, -21.005786], [-48.406993, -19.719609], [-50.304001, -26.457481]]]], &quot;type&quot;: &quot;MultiPolygon&quot;}, &quot;id&quot;: &quot;AMAZONIA_1_WFI_20230618_034_019_L4&quot;, &quot;links&quot;: [{&quot;href&quot;: &quot;https://dev.asdi-catalog.org/collections/AMAZONIA1-WFI&quot;, &quot;rel&quot;: &quot;collection&quot;, &quot;type&quot;: &quot;application/json&quot;}, {&quot;href&quot;: &quot;https://dev.asdi-catalog.org/collections/AMAZONIA1-WFI&quot;, &quot;rel&quot;: &quot;parent&quot;, &quot;type&quot;: &quot;application/json&quot;}, {&quot;href&quot;: &quot;https://dev.asdi-catalog.org&quot;, &quot;rel&quot;: &quot;root&quot;, &quot;title&quot;: &quot;ASDI STAC API (dev)&quot;, &quot;type&quot;: &quot;application/json&quot;}, {&quot;href&quot;: &quot;https://dev.asdi-catalog.org/collections/AMAZONIA1-WFI/items/AMAZONIA_1_WFI_20230618_034_019_L4&quot;, &quot;rel&quot;: &quot;self&quot;, &quot;type&quot;: &quot;application/geo+json&quot;}], &quot;properties&quot;: {&quot;amazonia:data_type&quot;: &quot;L4&quot;, &quot;amazonia:path&quot;: 34, &quot;amazonia:row&quot;: 19, &quot;datetime&quot;: &quot;2023-06-18T13:26:17Z&quot;, &quot;gsd&quot;: 64.0, &quot;instruments&quot;: [&quot;WFI&quot;], &quot;platform&quot;: &quot;amazonia-1&quot;, &quot;proj:epsg&quot;: 32723, &quot;sat:orbit_state&quot;: &quot;descending&quot;, &quot;sat:platform_international_designator&quot;: &quot;2021-015A&quot;, &quot;view:off_nadir&quot;: 0.000213414, &quot;view:sun_azimuth&quot;: 26.46715, &quot;view:sun_elevation&quot;: 38.3189}, &quot;stac_extensions&quot;: [&quot;https://stac-extensions.github.io/view/v1.0.0/schema.json&quot;, &quot;https://stac-extensions.github.io/sat/v1.0.0/schema.json&quot;, &quot;https://stac-extensions.github.io/projection/v1.1.0/schema.json&quot;, &quot;https://stac-extensions.github.io/eo/v1.0.0/schema.json&quot;], &quot;stac_version&quot;: &quot;1.0.0&quot;, &quot;type&quot;: &quot;Feature&quot;}], &quot;type&quot;: &quot;FeatureCollection&quot;});\n",
       "\n",
       "        \n",
       "    \n",
       "        function geo_json_fa2ed5652d1cb0e0bebd510397cd97b0_styler(feature) {\n",
       "            switch(feature.id) {\n",
       "                default:\n",
       "                    return {&quot;color&quot;: &quot;#ff0000&quot;, &quot;fillColor&quot;: &quot;#ff0000&quot;};\n",
       "            }\n",
       "        }\n",
       "\n",
       "        function geo_json_fa2ed5652d1cb0e0bebd510397cd97b0_onEachFeature(feature, layer) {\n",
       "            layer.on({\n",
       "            });\n",
       "        };\n",
       "        var geo_json_fa2ed5652d1cb0e0bebd510397cd97b0 = L.geoJson(null, {\n",
       "                onEachFeature: geo_json_fa2ed5652d1cb0e0bebd510397cd97b0_onEachFeature,\n",
       "            \n",
       "                style: geo_json_fa2ed5652d1cb0e0bebd510397cd97b0_styler,\n",
       "        });\n",
       "\n",
       "        function geo_json_fa2ed5652d1cb0e0bebd510397cd97b0_add (data) {\n",
       "            geo_json_fa2ed5652d1cb0e0bebd510397cd97b0\n",
       "                .addData(data)\n",
       "                .addTo(map_c47c4d14a8fece523ab7189ec57c9b67);\n",
       "        }\n",
       "            geo_json_fa2ed5652d1cb0e0bebd510397cd97b0_add({&quot;features&quot;: [{&quot;geometry&quot;: {&quot;coordinates&quot;: [[[-48.927635, -25.626009], [-48.927635, -25.323504], [-49.320232, -25.323504], [-49.320232, -25.626009], [-48.927635, -25.626009]]], &quot;type&quot;: &quot;Polygon&quot;}, &quot;id&quot;: &quot;0&quot;, &quot;type&quot;: &quot;Feature&quot;}], &quot;type&quot;: &quot;FeatureCollection&quot;});\n",
       "\n",
       "        \n",
       "&lt;/script&gt;\n",
       "&lt;/html&gt;\" style=\"position:absolute;width:100%;height:100%;left:0;top:0;border:none !important;\" allowfullscreen webkitallowfullscreen mozallowfullscreen></iframe></div></div>"
      ],
      "text/plain": [
       "<folium.folium.Map at 0x7fb8e7a1cd10>"
      ]
     },
     "execution_count": 5,
     "metadata": {},
     "output_type": "execute_result"
    }
   ],
   "source": [
    "import folium\n",
    "m = folium.Map(location=[center_point.y, center_point.x], zoom_start=6)\n",
    "bbox_style_blue = {'fillColor': '#3388ff', 'color': '#3388ff', 'fillOpacity':'0.05'} #make bbox red\n",
    "folium.GeoJson(source_items.to_dict(), name=\"items\", style_function=lambda x:bbox_style_blue).add_to(m)\n",
    "bbox_style_red = {'fillColor': '#ff0000', 'color': '#ff0000'} #make bbox red\n",
    "folium.GeoJson(bbox_poly, name=\"bbox\", style_function=lambda x:bbox_style_red).add_to(m)\n",
    "m"
   ]
  },
  {
   "cell_type": "markdown",
   "id": "d8671bca-ee1f-40a7-83fb-b24145b4fcb1",
   "metadata": {},
   "source": [
    "### Explore the Items\n",
    "\n",
    "The query resulted in 15 scenes that match the query. Lets look more closely at the properties in the STAC records.\n",
    "\n",
    "To Start you can print a single Item, and Jupyter will give you an interactive tree to explore."
   ]
  },
  {
   "cell_type": "markdown",
   "id": "725bfda7-6945-41e5-9c8a-81947f65e9a9",
   "metadata": {},
   "source": [
    "Since all the data is from the same bounding box, this is also a timeseries of 15 different times for the same location"
   ]
  },
  {
   "cell_type": "markdown",
   "id": "7da95294-b5f0-456d-a777-d44ba6f70fab",
   "metadata": {},
   "source": [
    "## Explore Scenes\n",
    "\n",
    "Let plot a single band for each time, reading only the data we need right when it's needed. \n",
    "\n",
    "> If this had a been a bigger selection of data falling back on thumbnail Assets would be more efficient.\n",
    "\n",
    "Turns out clouds are a big issue, so need to find a time without clouds. With the following code block you will see only 5 of the 15 times are good data."
   ]
  },
  {
   "cell_type": "code",
   "execution_count": null,
   "id": "8b961161-988b-4645-add5-dbf77ebf023a",
   "metadata": {},
   "outputs": [],
   "source": [
    "tj_response = httpx.get(f\"{endpoint}/mosaic/{searchid}/tilejson.json?assets=cog\").json()\n",
    "print(tj_response)"
   ]
  },
  {
   "cell_type": "code",
   "execution_count": null,
   "id": "5677e94e-e677-4fc7-ac2c-c96c4936cb24",
   "metadata": {},
   "outputs": [],
   "source": [
    "m = Map(\n",
    "    location=((bounds[1] + bounds[3]) / 2,(bounds[0] + bounds[2]) / 2),\n",
    "    zoom_start=14\n",
    ")\n",
    "\n",
    "geo_json = GeoJson(\n",
    "    data=geojson,\n",
    "    style_function=lambda x: {\n",
    "        'opacity': 1, 'dashArray': '1', 'fillOpacity': 0, 'weight': 1\n",
    "    },\n",
    ")\n",
    "geo_json.add_to(m)\n",
    "\n",
    "aod_layer = TileLayer(\n",
    "    tiles=tj_response[\"tiles\"][0],\n",
    "    attr=\"Mosaic\",\n",
    "    min_zoom=14,\n",
    "    max_zoom=18,\n",
    "    max_native_zoom=18,\n",
    ")\n",
    "aod_layer.add_to(m)\n",
    "m"
   ]
  },
  {
   "cell_type": "markdown",
   "id": "083a963f-e998-4072-9432-bd4faa9c08a0",
   "metadata": {},
   "source": [
    "#### Plotting 3 Bands\n",
    "\n",
    "Now that we've found good data, we can plot a 3 band image, matching the Bands to RGB for display.\n",
    "\n",
    "For the Amazonia WFI sensor if you look at the Asset properties on the STAC item you can see the bands labelled.\n"
   ]
  },
  {
   "cell_type": "code",
   "execution_count": 12,
   "id": "df8c4b67-5d2e-4c73-b2b6-2c00b840ae18",
   "metadata": {
    "tags": []
   },
   "outputs": [
    {
     "name": "stdout",
     "output_type": "stream",
     "text": [
      "['B1' 'B2' 'B3' 'B4']\n",
      "['blue' 'green' 'red' 'nir']\n"
     ]
    }
   ],
   "source": [
    "print(stack.band.values)\n",
    "print(stack.common_name.values)"
   ]
  },
  {
   "cell_type": "markdown",
   "id": "58d08642-2cd0-4171-a62e-d0fc0b4a7ede",
   "metadata": {},
   "source": [
    "Now for the first example in true color Red, Green, Blue.\n"
   ]
  },
  {
   "cell_type": "markdown",
   "id": "1536c228-e002-412c-8d3d-a1f809f7fd27",
   "metadata": {},
   "source": [
    "Then for the second in false color infrared, Near Infrared, Red, Green."
   ]
  }
 ],
 "metadata": {
  "kernelspec": {
   "display_name": ".conda-dem:Python",
   "language": "python",
   "name": "conda-env-.conda-dem-py"
  },
  "language_info": {
   "codemirror_mode": {
    "name": "ipython",
    "version": 3
   },
   "file_extension": ".py",
   "mimetype": "text/x-python",
   "name": "python",
   "nbconvert_exporter": "python",
   "pygments_lexer": "ipython3",
   "version": "3.11.3"
  }
 },
 "nbformat": 4,
 "nbformat_minor": 5
}
