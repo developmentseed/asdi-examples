{
 "cells": [
  {
   "cell_type": "markdown",
   "id": "ae02624a-e44f-4979-ae84-e1e99f3a2659",
   "metadata": {},
   "source": [
    "## Accessing Cloud Optimized Raster Data"
   ]
  },
  {
   "cell_type": "markdown",
   "id": "51243bfb-8980-4f2a-aa75-2370b0d56c8a",
   "metadata": {},
   "source": [
    "With the AWS STAC API (TODO update official name) we can search and load various geospatial datasets. Below we'll work with the Copernicus GLO-30 Digital Elevation Model, sourced from Cloud Optimized GeoTIFFs hosted on AWS. In this example, we read in elevation data using a bounding box.\n",
    "\n",
    "First we install any necessary packages. Please note that the following block of code only needs to be run if needed within a new workspace and that you may need to restart the kernel to use updated packages. The code block only needs to be run once for each AWS Sagemaker Studio profile."
   ]
  },
  {
   "cell_type": "code",
   "execution_count": null,
   "id": "4dd45efa-2c20-4372-895d-017a39ea800c",
   "metadata": {
    "tags": []
   },
   "outputs": [],
   "source": [
    "%pip install --upgrade pip -q\n",
    "%pip install matplotlib pystac_client stackstac rasterio folium -q"
   ]
  },
  {
   "cell_type": "markdown",
   "id": "3d090a05-02b3-4486-a102-4ab9d84bfb6d",
   "metadata": {},
   "source": [
    "We'll use pystac_client to submit our search query, stackstac to load and composite our rasters as an Xarray DataArray, and rio-tiler to performantally load individual Cloud Optimized GeoTIFFs."
   ]
  },
  {
   "cell_type": "markdown",
   "id": "67dd3d20-788d-4ab9-93e9-d4963ae2118d",
   "metadata": {},
   "source": [
    "### Querying the AWS STAC API with Pystac Client\n",
    "\n",
    "First, we define the URL to our STAC API, a service that allows us to submit search queries for spatio-temporal assets (like elevation raster tiles).\n",
    "\n",
    "Next, we open this URL with pystac_client, which allows us to use the client's search method. `client.search` accepts many different arguments to specify the search query. Common query parameters are `time_range` and `bbox` (the spatial bounding box). Since the DEM was collected at one point in time, we will only specify the \"where\" with a `bbox` describing the minx, miny, maxx, maxy coordinates in lat/lon degrees."
   ]
  },
  {
   "cell_type": "code",
   "execution_count": null,
   "id": "8f5bf64a-5a46-461c-b358-4d4691932641",
   "metadata": {
    "tags": []
   },
   "outputs": [],
   "source": [
    "import os\n",
    "from pystac_client import Client\n",
    "import stackstac\n",
    "# making a connection to AWS STAC API\n",
    "API_ROOT_URL = \"https://1hfhn8bf6g.execute-api.us-west-2.amazonaws.com\"\n",
    "client = Client.open(API_ROOT_URL)\n",
    "\n",
    "# our search requirements, a bounding box for San Ignacio. Belize\n",
    "bbox = [-89.19605011359278, 17.028707271735962, -88.94369134663197, 17.263285211322446]\n",
    "source_search = client.search(\n",
    "        collections=[\"cop-dem-glo-30\"], bbox=bbox\n",
    "    )\n",
    "# getting the metadata and links to data assets in STAC format\n",
    "source_items = source_search.get_all_items()\n",
    "print(\"Number of elevation tiles: \", len(source_items))"
   ]
  },
  {
   "attachments": {},
   "cell_type": "markdown",
   "id": "ef635f23-9ba2-4b99-9f95-1fe243f06f2a",
   "metadata": {},
   "source": [
    "### Loading an OSM descriptive map of the same area\n",
    "\n",
    "To better understand our area of interest, we can create a descriptive map with our bounding box. We'll load an OpenStreetMap basemap that includes place names, annotations for water and forested areas, and roads. We'll use `folium` to access and plot this map. To learn more about `folium`, check out the [documentation](https://python-visualization.github.io/folium/). We'll use our bounding box to specify where we want to center our map and pick a zoom level that shows us detail around San Ignacio."
   ]
  },
  {
   "cell_type": "code",
   "execution_count": null,
   "id": "9be1bf3c-2754-40d0-b4af-3bef4cc05292",
   "metadata": {
    "tags": []
   },
   "outputs": [],
   "source": [
    "center_point = ((bbox[1] + bbox[3])/2, (bbox[0] + bbox[2])/2)\n",
    "center_point"
   ]
  },
  {
   "cell_type": "code",
   "execution_count": null,
   "id": "e93380c2-8605-4557-bb87-01807766b090",
   "metadata": {
    "tags": []
   },
   "outputs": [],
   "source": [
    "import folium\n",
    "m = folium.Map(location=center_point, zoom_start=13)\n"
   ]
  },
  {
   "cell_type": "markdown",
   "id": "b222a28c-43ec-4a36-927d-f27bd46ad9f8",
   "metadata": {},
   "source": [
    "### Loading DEM raster into an Xarray DataArray\n",
    "\n",
    "There are multiple options for loading STAC items into in-memory arrays. `stackstac` allows you to specify a list of items from a `pystac_client` search and load those items as a single xarray DataArray. Similar to it's name, `stackstac` handles loading and then stacking individual COGs that fall within our `pystac` query. Since our `stack` DataArray has two tiles, we need to composite the tiles within the bounding box into one raster."
   ]
  },
  {
   "cell_type": "code",
   "execution_count": null,
   "id": "7c50d854-6d98-4f69-8f54-1c4ebc309e4d",
   "metadata": {
    "tags": []
   },
   "outputs": [],
   "source": [
    "# converting STAC items into an xarray data array\n",
    "stack = stackstac.stack(source_items, epsg = 4326)\n",
    "\n",
    "print(type(stack))\n",
    "\n",
    "stack"
   ]
  },
  {
   "cell_type": "markdown",
   "id": "1d4bf3e9-2e6f-4871-a959-452341a64d2f",
   "metadata": {},
   "source": [
    "We'll load this into memory so that later operations that use this array are faster."
   ]
  },
  {
   "cell_type": "code",
   "execution_count": null,
   "id": "a86640b6-6e4d-4be8-923d-a6fc4e3b1a5b",
   "metadata": {
    "tags": []
   },
   "outputs": [],
   "source": [
    "import rasterio\n",
    "from dask.diagnostics import ProgressBar\n",
    "\n",
    "with ProgressBar() and rasterio.Env(AWS_NO_SIGN_REQUEST=True):\n",
    "    stack = stack.compute()"
   ]
  },
  {
   "cell_type": "markdown",
   "id": "8012dfd4-e453-4448-989c-5b06f4b8b70d",
   "metadata": {},
   "source": [
    "Before compositing, let's first plot the tiles individually tile to see if there are any nodata values we need to handle. A DataArray's plot method gives us a quick look at the raster."
   ]
  },
  {
   "cell_type": "code",
   "execution_count": null,
   "id": "dba635e4-a4ec-46ac-9ba9-c023c8253d58",
   "metadata": {
    "tags": []
   },
   "outputs": [],
   "source": [
    "import matplotlib\n",
    "stack.isel(time=0).plot(cmap=\"viridis\", robust=True)"
   ]
  },
  {
   "cell_type": "code",
   "execution_count": null,
   "id": "eb9e3ee4-1be4-4dc7-b1e6-317b00fc7ed0",
   "metadata": {
    "tags": []
   },
   "outputs": [],
   "source": [
    "stack.isel(time=1).plot(cmap=\"viridis\", robust=True)"
   ]
  },
  {
   "cell_type": "markdown",
   "id": "4736a1ee-c83a-43a1-bd14-c961be32668c",
   "metadata": {},
   "source": [
    "It looks like 0 is the nodata value, which is evident by the hard boundary between 0 valued pixels and data pixels. We can mask these nodata areas with the `where` method so that they don't affect the composite calculation."
   ]
  },
  {
   "cell_type": "code",
   "execution_count": null,
   "id": "85a40da4-7882-4010-b852-e397bbce0893",
   "metadata": {
    "tags": []
   },
   "outputs": [],
   "source": [
    "stack = stack.where(stack!=0)"
   ]
  },
  {
   "cell_type": "code",
   "execution_count": null,
   "id": "f1e003b7-96a0-4c5f-a806-3562fe43a4e7",
   "metadata": {
    "tags": []
   },
   "outputs": [],
   "source": [
    "stack.isel(time=1).plot(cmap=\"viridis\", robust=True)"
   ]
  },
  {
   "cell_type": "code",
   "execution_count": null,
   "id": "f1378248-3a1f-45db-a81a-9b53ae856f79",
   "metadata": {
    "tags": []
   },
   "outputs": [],
   "source": [
    "stack.isel(time=0).plot(cmap=\"viridis\", robust=True)"
   ]
  },
  {
   "cell_type": "markdown",
   "id": "f692c15a-104a-445d-8eaf-2e9abf387a78",
   "metadata": {},
   "source": [
    "Below we compute a mean composite between the two tiles."
   ]
  },
  {
   "cell_type": "code",
   "execution_count": null,
   "id": "214e18a3-4767-474e-9e78-eae45757cd75",
   "metadata": {
    "tags": []
   },
   "outputs": [],
   "source": [
    "# taking the mean along the time dimension to combine the two elevation tiles\n",
    "composite = stack.mean(dim=\"time\")\n",
    "composite"
   ]
  },
  {
   "cell_type": "code",
   "execution_count": null,
   "id": "0d0ac26f-a234-4f10-9346-433e1c1f631a",
   "metadata": {
    "tags": []
   },
   "outputs": [],
   "source": [
    "composite.plot(cmap=\"viridis\", robust=True)"
   ]
  },
  {
   "cell_type": "markdown",
   "id": "b8db4f65-0ba0-420a-81d7-2f5c4109a1e4",
   "metadata": {},
   "source": [
    "In the above plot, we can see the elevation contour of the Mopan river, which flows near San Ignacio from the north to the southwest corner of our bounding box."
   ]
  }
 ],
 "metadata": {
  "instance_type": "ml.m5.4xlarge",
  "kernelspec": {
   "display_name": "base",
   "language": "python",
   "name": "python3"
  },
  "language_info": {
   "codemirror_mode": {
    "name": "ipython",
    "version": 3
   },
   "file_extension": ".py",
   "mimetype": "text/x-python",
   "name": "python",
   "nbconvert_exporter": "python",
   "pygments_lexer": "ipython3",
   "version": "3.9.15"
  },
  "vscode": {
   "interpreter": {
    "hash": "c6e4e9f98eb68ad3b7c296f83d20e6de614cb42e90992a65aa266555a3137d0d"
   }
  }
 },
 "nbformat": 4,
 "nbformat_minor": 5
}
